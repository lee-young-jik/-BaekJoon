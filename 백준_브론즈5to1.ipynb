{
  "nbformat": 4,
  "nbformat_minor": 0,
  "metadata": {
    "colab": {
      "provenance": [],
      "authorship_tag": "ABX9TyMPGvUF1eMH60jFJSpQYY3P",
      "include_colab_link": true
    },
    "kernelspec": {
      "name": "python3",
      "display_name": "Python 3"
    },
    "language_info": {
      "name": "python"
    }
  },
  "cells": [
    {
      "cell_type": "markdown",
      "metadata": {
        "id": "view-in-github",
        "colab_type": "text"
      },
      "source": [
        "<a href=\"https://colab.research.google.com/github/lee-young-jik/-BaekJoon/blob/main/%EB%B0%B1%EC%A4%80_%EB%B8%8C%EB%A1%A0%EC%A6%885to1.ipynb\" target=\"_parent\"><img src=\"https://colab.research.google.com/assets/colab-badge.svg\" alt=\"Open In Colab\"/></a>"
      ]
    },
    {
      "cell_type": "code",
      "execution_count": null,
      "metadata": {
        "id": "P4WD2y0BUVaN",
        "colab": {
          "base_uri": "https://localhost:8080/",
          "height": 281
        },
        "outputId": "635932a6-258f-4bf0-b952-a853d0b0cacf"
      },
      "outputs": [
        {
          "name": "stdout",
          "output_type": "stream",
          "text": [
            "1\n",
            "1\n"
          ]
        },
        {
          "output_type": "error",
          "ename": "ValueError",
          "evalue": "ignored",
          "traceback": [
            "\u001b[0;31m---------------------------------------------------------------------------\u001b[0m",
            "\u001b[0;31mValueError\u001b[0m                                Traceback (most recent call last)",
            "\u001b[0;32m<ipython-input-11-59ca82d9d001>\u001b[0m in \u001b[0;36m<cell line: 4>\u001b[0;34m()\u001b[0m\n\u001b[1;32m      6\u001b[0m   \u001b[0;32mif\u001b[0m \u001b[0ma\u001b[0m \u001b[0;34m<\u001b[0m \u001b[0;36m0\u001b[0m\u001b[0;34m:\u001b[0m\u001b[0;34m\u001b[0m\u001b[0;34m\u001b[0m\u001b[0m\n\u001b[1;32m      7\u001b[0m     \u001b[0;32mbreak\u001b[0m\u001b[0;34m\u001b[0m\u001b[0;34m\u001b[0m\u001b[0m\n\u001b[0;32m----> 8\u001b[0;31m   \u001b[0mb\u001b[0m\u001b[0;34m,\u001b[0m\u001b[0mc\u001b[0m\u001b[0;34m,\u001b[0m\u001b[0mr1\u001b[0m\u001b[0;34m,\u001b[0m\u001b[0me\u001b[0m\u001b[0;34m,\u001b[0m\u001b[0mf\u001b[0m\u001b[0;34m,\u001b[0m\u001b[0mr2\u001b[0m \u001b[0;34m=\u001b[0m \u001b[0mmap\u001b[0m\u001b[0;34m(\u001b[0m\u001b[0mint\u001b[0m\u001b[0;34m,\u001b[0m\u001b[0minput\u001b[0m\u001b[0;34m(\u001b[0m\u001b[0;34m)\u001b[0m\u001b[0;34m.\u001b[0m\u001b[0msplit\u001b[0m\u001b[0;34m(\u001b[0m\u001b[0;34m)\u001b[0m\u001b[0;34m)\u001b[0m\u001b[0;34m\u001b[0m\u001b[0;34m\u001b[0m\u001b[0m\n\u001b[0m\u001b[1;32m      9\u001b[0m   \u001b[0mdistance\u001b[0m \u001b[0;34m=\u001b[0m \u001b[0mmath\u001b[0m\u001b[0;34m.\u001b[0m\u001b[0msqrt\u001b[0m\u001b[0;34m(\u001b[0m\u001b[0;34m(\u001b[0m\u001b[0mb\u001b[0m\u001b[0;34m-\u001b[0m\u001b[0me\u001b[0m\u001b[0;34m)\u001b[0m\u001b[0;34m**\u001b[0m\u001b[0;36m2\u001b[0m\u001b[0;34m+\u001b[0m\u001b[0;34m(\u001b[0m\u001b[0mc\u001b[0m\u001b[0;34m-\u001b[0m\u001b[0mf\u001b[0m\u001b[0;34m)\u001b[0m\u001b[0;34m**\u001b[0m\u001b[0;36m2\u001b[0m\u001b[0;34m)\u001b[0m\u001b[0;34m\u001b[0m\u001b[0;34m\u001b[0m\u001b[0m\n\u001b[1;32m     10\u001b[0m   \u001b[0;32mif\u001b[0m \u001b[0mr1\u001b[0m \u001b[0;34m>\u001b[0m \u001b[0mr2\u001b[0m \u001b[0;34m:\u001b[0m\u001b[0;34m\u001b[0m\u001b[0;34m\u001b[0m\u001b[0m\n",
            "\u001b[0;31mValueError\u001b[0m: not enough values to unpack (expected 6, got 1)"
          ]
        }
      ],
      "source": [
        "import math\n",
        "a = int(input())\n",
        "\n",
        "while True:\n",
        "  a =a-1\n",
        "  if a <  0:\n",
        "    break\n",
        "  b,c,r1,e,f,r2 = map(int,input().split())\n",
        "  distance = math.sqrt((b-e)**2+(c-f)**2)\n",
        "  if r1 > r2 :\n",
        "    sub = r1 - r2\n",
        "  elif r1< r2:\n",
        "    sub = r2 -r1\n",
        "\n",
        "\n",
        "  if (distance ==0) or r1==r2:\n",
        "    print(0)\n",
        "  elif distance == r1+r2  or sub == distance:\n",
        "    print(1)\n",
        "  elif distance < r1+r2 and sub <distance  :\n",
        "    print(2)\n",
        "\n",
        "\n",
        "  "
      ]
    },
    {
      "cell_type": "code",
      "source": [
        "A, B = [], []\n",
        "\n",
        "N, M = map(int, input().split())\n",
        "\n",
        "for row in range(N):\n",
        "    row = list(map(int, input().split()))\n",
        "    A.append(row)\n",
        "\n",
        "for row in range(N):\n",
        "    row = list(map(int, input().split()))\n",
        "    B.append(row)\n"
      ],
      "metadata": {
        "colab": {
          "base_uri": "https://localhost:8080/"
        },
        "id": "HIr5mohuO_f3",
        "outputId": "06938c66-1147-4414-c162-69379e1cf451"
      },
      "execution_count": null,
      "outputs": [
        {
          "name": "stdout",
          "output_type": "stream",
          "text": [
            "3 3\n",
            "1\n",
            "1\n",
            "1\n",
            "1\n",
            "1\n",
            "1\n"
          ]
        }
      ]
    },
    {
      "cell_type": "code",
      "source": [],
      "metadata": {
        "id": "50SKiR0-Oo66"
      },
      "execution_count": null,
      "outputs": []
    },
    {
      "cell_type": "code",
      "source": [
        "\n",
        "\n",
        "while True:\n",
        "  c=0\n",
        "  \n",
        "  a = input()\n",
        "  if a == '#':\n",
        "    break\n",
        "  for i in range(len(a)):\n",
        "    if a[i] in ['a','e','i','o','u']:\n",
        "      c += 1\n",
        "  print(c)\n",
        "  \n",
        "\n",
        "\n"
      ],
      "metadata": {
        "id": "nVZ1rJ9Mbi8P",
        "colab": {
          "base_uri": "https://localhost:8080/"
        },
        "outputId": "80e3f7c4-fc4e-424c-ef3b-51fa522c5970"
      },
      "execution_count": null,
      "outputs": [
        {
          "name": "stdout",
          "output_type": "stream",
          "text": [
            "hello\n",
            "2\n",
            "my name is\n",
            "3\n",
            "#\n"
          ]
        }
      ]
    },
    {
      "cell_type": "code",
      "source": [
        "#백준2083\n",
        "while True:\n",
        "  a,b,c = input().split()\n",
        "  if a == '#' and int(b) == 0 and int(c)==0:\n",
        "    break\n",
        "  if int(b) >17 or int(c) > 80:\n",
        "    print(a, \"Senior\")\n",
        "  else:\n",
        "    print(a, \"Junior\")\n",
        "\n"
      ],
      "metadata": {
        "colab": {
          "base_uri": "https://localhost:8080/"
        },
        "id": "mqqBMl3MTJY-",
        "outputId": "d2e3c073-330d-4468-bf98-41b7e39316dc"
      },
      "execution_count": null,
      "outputs": [
        {
          "name": "stdout",
          "output_type": "stream",
          "text": [
            "Joe 16 34\n",
            "Joe Junior\n",
            "Bill 18 65\n",
            "Bill Senior\n",
            "# 0 0\n"
          ]
        }
      ]
    },
    {
      "cell_type": "code",
      "source": [
        "Joe 16 34\n",
        "Bill 18 65\n",
        "Billy 17 65\n",
        "Sam 17 85\n",
        "# 0 0\n",
        "\n",
        "Joe Junior\n",
        "Bill Senior\n",
        "Billy Junior\n",
        "Sam Senio\n",
        "17세보다 많거나, 몸무게가 80kg 이상이면 성인부이다. 그 밖에는 모두 청소년부이다"
      ],
      "metadata": {
        "id": "nuh3YWNCTQjr"
      },
      "execution_count": null,
      "outputs": []
    },
    {
      "cell_type": "code",
      "source": [
        "s = int(input())\n",
        "\n",
        "for i in range(1,s+1):\n",
        "    print(\" \" * (s -i) +\"*\" * i)"
      ],
      "metadata": {
        "colab": {
          "base_uri": "https://localhost:8080/"
        },
        "id": "tILtPYI6YYD4",
        "outputId": "018751a0-a190-4cef-9a49-7a0204fa9fa5"
      },
      "execution_count": null,
      "outputs": [
        {
          "output_type": "stream",
          "name": "stdout",
          "text": [
            "5\n",
            "    *\n",
            "   **\n",
            "  ***\n",
            " ****\n",
            "*****\n"
          ]
        }
      ]
    },
    {
      "cell_type": "code",
      "source": [
        "#2440\n",
        "s = int(input())\n",
        "\n",
        "for i in range(s,0,-1):\n",
        "    print(\"*\" * i)"
      ],
      "metadata": {
        "colab": {
          "base_uri": "https://localhost:8080/"
        },
        "id": "6Lzq-0QSZ4HG",
        "outputId": "4a41b0c6-c96f-4340-c6b7-d1bf4922dc1e"
      },
      "execution_count": null,
      "outputs": [
        {
          "output_type": "stream",
          "name": "stdout",
          "text": [
            "5\n",
            "*****\n",
            "****\n",
            "***\n",
            "**\n",
            "*\n"
          ]
        }
      ]
    },
    {
      "cell_type": "code",
      "source": [
        "a,b,c = map(int,input().split())\n",
        "if a > b and a> c:\n",
        "  max = a\n",
        "elif b>a and b>c:\n",
        "  max =b\n",
        "elif c>a and c>b:\n",
        "  max =c \n",
        "\n",
        "\n",
        "if a == b and a==c and b==c:\n",
        "  print(10000+ a * 1000)\n",
        "elif a==b:\n",
        "  print(1000+a*100)\n",
        "elif a==c:\n",
        "  print(1000+a*100)\n",
        "elif b==c:\n",
        "  print(1000+b*100)\n",
        "elif a!=b and a!=c and b!= c:\n",
        "  print(max * 100)\n"
      ],
      "metadata": {
        "colab": {
          "base_uri": "https://localhost:8080/"
        },
        "id": "xJQea_zEagtj",
        "outputId": "85b9381b-b88a-4a23-9e57-593c285f7902"
      },
      "execution_count": null,
      "outputs": [
        {
          "output_type": "stream",
          "name": "stdout",
          "text": [
            " 6 5 2\n",
            "600\n"
          ]
        }
      ]
    },
    {
      "cell_type": "code",
      "source": [
        "now  = input().split()\n",
        "time = int(input())\n",
        "\n",
        "if time >= 3600:\n",
        "  now[0] = int(now[0])+int(time//3600)\n",
        "  now[1] =int(now[1])+ int(time%3600/60)\n",
        "  now[2] = int(now[2]) + int(time % 3600 % 60)\n",
        "  if int(now[1]) >= 60:\n",
        "    now[0]= int(now[0])+(now[1] // 60) \n",
        "    now[1] = int(now[1]) % 60\n",
        "  if int(now[2]) >= 60:\n",
        "    now[1]= int(now[1])+(now[2] // 60) \n",
        "    now[2] = int(now[2]) % 60\n",
        "elif time >= 60:\n",
        "   now[1] = int(now[1]) + (time//60)\n",
        "   now[2] = int(now[2])+ (time%60)\n",
        "\n",
        "   if int(now[1]) >= 60:\n",
        "      now[0] = int(now[1]) //60 + int(now[0])\n",
        "      now[1] = int(now[1]) % 60\n",
        "   if int(now[2]) >= 60:\n",
        "      now[1] = int(now[2]) //60 + int(now[1])\n",
        "      now[2] = int(now[2]) % 60\n",
        "elif time < 60:\n",
        "   now[2] = int(now[2])+ time\n",
        "   if int(now[2]) > 60:\n",
        "    now[1] = int(now[2])//60 +int(now[1])\n",
        "    now[2] = int(now[2]) % 60\n",
        "\n"
      ],
      "metadata": {
        "colab": {
          "base_uri": "https://localhost:8080/"
        },
        "id": "M7cDf0jgcaN9",
        "outputId": "cca05721-48a9-4380-ab00-eac986873c37"
      },
      "execution_count": null,
      "outputs": [
        {
          "output_type": "stream",
          "name": "stdout",
          "text": [
            "5 5 5\n",
            "40\n",
            "5 5 45\n"
          ]
        }
      ]
    },
    {
      "cell_type": "code",
      "source": [
        "a,b = map(int, input().split())\n",
        "n1,n2,n3,n4,n5 = map(int, input().split())\n",
        "\n",
        "tot = a * b\n",
        "print(n1-tot,n2-tot,n3-tot,n4-tot,n5-tot)\n"
      ],
      "metadata": {
        "id": "MOORWQlMoL1J"
      },
      "execution_count": null,
      "outputs": []
    },
    {
      "cell_type": "markdown",
      "source": [],
      "metadata": {
        "id": "HvaN7GZ6vjGz"
      }
    },
    {
      "cell_type": "code",
      "source": [
        "#5554\n",
        "a = int(input())\n",
        "b = int(input())\n",
        "c = int(input())\n",
        "d = int(input())\n",
        "\n",
        "s = (a+b+c+d)\n",
        "m = s\n",
        "\n",
        "print()"
      ],
      "metadata": {
        "id": "8hu3WefRvjXk"
      },
      "execution_count": null,
      "outputs": []
    },
    {
      "cell_type": "code",
      "source": [
        "a,b,c = map(int, input().split())\n",
        "\n",
        "if a==60 and a==60 and b==60:\n",
        "        print('Equilateral')\n",
        "if a+b+c ==180:\n",
        "    if a==b or a==c or b==c:\n",
        "        print('Isosceles')\n",
        "    elif a!=b and a!=c and b!=c:\n",
        "        print('Scalene')\n",
        "    else:\n",
        "        print('Error')\n",
        " \n",
        " "
      ],
      "metadata": {
        "colab": {
          "base_uri": "https://localhost:8080/"
        },
        "id": "fk0yKrlt6UfV",
        "outputId": "5886c09f-cae8-45cb-bcc3-70802f3b4767"
      },
      "execution_count": null,
      "outputs": [
        {
          "output_type": "stream",
          "name": "stdout",
          "text": [
            "60 70 50\n",
            "Scalene\n"
          ]
        }
      ]
    },
    {
      "cell_type": "code",
      "source": [
        "#3046\n",
        "R1,S = map(int,input().split())\n",
        "R2 = S*2 -R1\n",
        "print(R2)\n"
      ],
      "metadata": {
        "id": "AA0eulEbv7aP"
      },
      "execution_count": null,
      "outputs": []
    },
    {
      "cell_type": "code",
      "source": [
        "a, b=map(int,input().split())\n",
        "if a < b:\n",
        "    print(-1)\n",
        "else:\n",
        "    x=(a+b)//2\n",
        "    y=(a-b)//2\n",
        "    if x+y==a and x-y==b:\n",
        "        print(x, y)\n",
        "    else:\n",
        "        print(-1)"
      ],
      "metadata": {
        "id": "ZJhrLwqkv7uj"
      },
      "execution_count": null,
      "outputs": []
    },
    {
      "cell_type": "code",
      "source": [
        "#4470\n",
        "line = int(input())\n",
        "\n",
        "i =1\n",
        "while True:\n",
        "  if line == 0:\n",
        "    break\n",
        "  else:\n",
        "    line -= 1\n",
        "  str = input()\n",
        "  print(f\"{i}. {str}\")\n",
        "  i = i+1"
      ],
      "metadata": {
        "colab": {
          "base_uri": "https://localhost:8080/"
        },
        "id": "v2mPXys4PqPy",
        "outputId": "a3509ebf-e800-4085-884c-3fd7a38f85fc"
      },
      "execution_count": null,
      "outputs": [
        {
          "output_type": "stream",
          "name": "stdout",
          "text": [
            "3\n",
            "aa\n",
            "1.aa\n",
            "ff\n",
            "2.ff\n",
            "bb\n",
            "3.bb\n"
          ]
        }
      ]
    },
    {
      "cell_type": "code",
      "source": [
        "#5524\n",
        "line = int(input())\n",
        "\n",
        "while True:\n",
        "  if line ==0:\n",
        "    break\n",
        "  else:\n",
        "    line -= 1\n",
        "  str = input()\n",
        "  print(str.lower())\n"
      ],
      "metadata": {
        "colab": {
          "base_uri": "https://localhost:8080/",
          "height": 246
        },
        "id": "INZiRrKja_Bm",
        "outputId": "e67858c0-a263-4ce9-8c4d-300d08ce63ae"
      },
      "execution_count": null,
      "outputs": [
        {
          "name": "stdout",
          "output_type": "stream",
          "text": [
            "3\n",
            "aa\n"
          ]
        },
        {
          "output_type": "error",
          "ename": "NameError",
          "evalue": "ignored",
          "traceback": [
            "\u001b[0;31m---------------------------------------------------------------------------\u001b[0m",
            "\u001b[0;31mNameError\u001b[0m                                 Traceback (most recent call last)",
            "\u001b[0;32m<ipython-input-18-69aa445861ca>\u001b[0m in \u001b[0;36m<cell line: 4>\u001b[0;34m()\u001b[0m\n\u001b[1;32m      8\u001b[0m     \u001b[0mline\u001b[0m \u001b[0;34m-=\u001b[0m \u001b[0;36m1\u001b[0m\u001b[0;34m\u001b[0m\u001b[0;34m\u001b[0m\u001b[0m\n\u001b[1;32m      9\u001b[0m   \u001b[0mstr\u001b[0m \u001b[0;34m=\u001b[0m \u001b[0minput\u001b[0m\u001b[0;34m(\u001b[0m\u001b[0;34m)\u001b[0m\u001b[0;34m\u001b[0m\u001b[0;34m\u001b[0m\u001b[0m\n\u001b[0;32m---> 10\u001b[0;31m   \u001b[0mprint\u001b[0m\u001b[0;34m(\u001b[0m\u001b[0mlower\u001b[0m\u001b[0;34m(\u001b[0m\u001b[0mstr\u001b[0m\u001b[0;34m)\u001b[0m\u001b[0;34m)\u001b[0m\u001b[0;34m\u001b[0m\u001b[0;34m\u001b[0m\u001b[0m\n\u001b[0m",
            "\u001b[0;31mNameError\u001b[0m: name 'lower' is not defined"
          ]
        }
      ]
    },
    {
      "cell_type": "code",
      "source": [
        "\n",
        "a = int(input())\n",
        "b = int(input())\n",
        "c = int(input())\n",
        "d = int(input())\n",
        "e = int(input())\n",
        "\n",
        "for i in range(0,a):\n",
        "  if c * i > b and e * i > c:\n",
        "    print(20 - i)\n",
        "    break\n",
        "\n"
      ],
      "metadata": {
        "id": "U2JR1FzE0ATx"
      },
      "execution_count": null,
      "outputs": []
    },
    {
      "cell_type": "code",
      "source": [
        "#5543\n",
        "sang = int(input())\n",
        "jung = int(input())\n",
        "ha= int(input())\n",
        "cola= int(input())\n",
        "cider = int(input())\n",
        "\n",
        "if sang < jung and sang <ha:\n",
        "    if cola < cider:\n",
        "        print(sang + cola - 50)\n",
        "    elif cola > cider:\n",
        "        print(sang + cider -50)\n",
        "elif jung < sang and jung < ha:\n",
        "    if cola < cider:\n",
        "        print(jung + cola - 50)\n",
        "    elif cola > cider:\n",
        "        print(jung + cider -50)\n",
        "elif ha<sang and ha < jung:\n",
        "    if cola < cider:\n",
        "        print(ha + cola - 50)\n",
        "    elif cola > cider:\n",
        "        print(ha + cider -50)\n",
        "    \n"
      ],
      "metadata": {
        "colab": {
          "base_uri": "https://localhost:8080/"
        },
        "id": "K7HOSge32xXi",
        "outputId": "616a0255-2609-4345-d8a2-272b5756a74d"
      },
      "execution_count": null,
      "outputs": [
        {
          "output_type": "stream",
          "name": "stdout",
          "text": [
            "500\n",
            "200\n",
            "300\n",
            "100\n",
            "150\n",
            "250\n"
          ]
        }
      ]
    },
    {
      "cell_type": "code",
      "source": [
        "#5554\n",
        "a = int(input())\n",
        "b = int(input())\n",
        "c= int(input())\n",
        "d= int(input())\n",
        "\n",
        "sec = a+b+c+d\n",
        "min = sec // 60\n",
        "\n",
        "print(min )\n",
        "print(sec % 60)\n",
        "\n",
        "    \n"
      ],
      "metadata": {
        "colab": {
          "base_uri": "https://localhost:8080/"
        },
        "id": "aZpIs9GY4a1v",
        "outputId": "f316f9f0-ebd6-483e-a588-4b85587bef84"
      },
      "execution_count": null,
      "outputs": [
        {
          "output_type": "stream",
          "name": "stdout",
          "text": [
            "316\n",
            "430\n",
            "643\n",
            "1253\n",
            "44\n",
            "2\n"
          ]
        }
      ]
    },
    {
      "cell_type": "code",
      "source": [
        "#5575\n",
        "\n",
        "for i in range(0,3:)\n",
        "  ft, fm, fs, lt,lm,ls = map(int,input().split())\n",
        "\n",
        "  first = ft * 3600 + fm * 60 + fs\n",
        "  last = lt *3600 + lm * 60 + ls\n",
        "\n",
        "  print((last-first) // 3600, (last-first)% 3600 // 60, (last-first) % 3600 % 60 )\n",
        "\n",
        "\n",
        "    "
      ],
      "metadata": {
        "colab": {
          "base_uri": "https://localhost:8080/"
        },
        "id": "WpFVwnsN5odq",
        "outputId": "7a884b99-2efc-4ed8-f712-10ed18ae3d8d"
      },
      "execution_count": null,
      "outputs": [
        {
          "output_type": "stream",
          "name": "stdout",
          "text": [
            "12 14 52 12 15 30\n",
            "0 0 38\n"
          ]
        }
      ]
    },
    {
      "cell_type": "code",
      "source": [
        "jung, mat, sci, eng = map(int,input().split())\n",
        "jung2, mat2, sci2, eng2 = map(int,input().split())\n",
        "\n",
        "S = jung+mat+sci+eng\n",
        "T = jung2+mat2+sci2+eng2\n",
        "\n",
        "if S >= T:\n",
        "  print(S)\n",
        "else:\n",
        "  print(T)\n",
        "   \n"
      ],
      "metadata": {
        "id": "gWlYPzDT9rIo"
      },
      "execution_count": null,
      "outputs": []
    },
    {
      "cell_type": "code",
      "source": [
        "#5717\n",
        "\n",
        "\n",
        "while True:\n",
        "  a ,b = map(int,input().split())\n",
        "  if a == 0 and b == 0:\n",
        "    break\n",
        "  print(a+b)\n",
        "  "
      ],
      "metadata": {
        "id": "lmHdkqsA-YtL"
      },
      "execution_count": null,
      "outputs": []
    },
    {
      "cell_type": "code",
      "source": [
        "a,b,c,d = map(int,input().split())\n",
        "pirnt(min(a,b, c-a, d-b))\n"
      ],
      "metadata": {
        "colab": {
          "base_uri": "https://localhost:8080/"
        },
        "id": "6Juib71SCBOv",
        "outputId": "f8fdc8dd-5b55-42d7-cfb2-90f9d9edaeac"
      },
      "execution_count": null,
      "outputs": [
        {
          "output_type": "stream",
          "name": "stdout",
          "text": [
            "5 5 11 11\n",
            "5\n"
          ]
        }
      ]
    },
    {
      "cell_type": "code",
      "source": [
        "#1247\n",
        "import sys\n",
        "input = sys.stdin.readline\n",
        "for i in range(3):\n",
        "    line = int(input())\n",
        "    total =0\n",
        "    for i in range(line):\n",
        "      num = int(input())\n",
        "      total = total + num\n",
        "    if total > 0:\n",
        "       print('+')\n",
        "    elif total == 0:\n",
        "      print('0')\n",
        "    elif total < 0:\n",
        "      print('-')\n",
        "\n",
        "\n",
        "      \n",
        "    \n"
      ],
      "metadata": {
        "colab": {
          "base_uri": "https://localhost:8080/",
          "height": 507
        },
        "id": "QOynr3-YEHYU",
        "outputId": "cc360409-efd1-4ceb-f9a7-fa0f6b5b1ad0"
      },
      "execution_count": null,
      "outputs": [
        {
          "output_type": "stream",
          "name": "stdout",
          "text": [
            "3 \n",
            "0\n",
            "0\n",
            "1\n",
            "+\n"
          ]
        },
        {
          "output_type": "error",
          "ename": "KeyboardInterrupt",
          "evalue": "ignored",
          "traceback": [
            "\u001b[0;31m---------------------------------------------------------------------------\u001b[0m",
            "\u001b[0;31mKeyboardInterrupt\u001b[0m                         Traceback (most recent call last)",
            "\u001b[0;32m<ipython-input-46-e7d86260e319>\u001b[0m in \u001b[0;36m<cell line: 2>\u001b[0;34m()\u001b[0m\n\u001b[1;32m      1\u001b[0m \u001b[0;31m#1247\u001b[0m\u001b[0;34m\u001b[0m\u001b[0;34m\u001b[0m\u001b[0m\n\u001b[1;32m      2\u001b[0m \u001b[0;32mwhile\u001b[0m \u001b[0;32mTrue\u001b[0m\u001b[0;34m:\u001b[0m\u001b[0;34m\u001b[0m\u001b[0;34m\u001b[0m\u001b[0m\n\u001b[0;32m----> 3\u001b[0;31m     \u001b[0mline\u001b[0m \u001b[0;34m=\u001b[0m \u001b[0mint\u001b[0m\u001b[0;34m(\u001b[0m\u001b[0minput\u001b[0m\u001b[0;34m(\u001b[0m\u001b[0;34m)\u001b[0m\u001b[0;34m)\u001b[0m\u001b[0;34m\u001b[0m\u001b[0;34m\u001b[0m\u001b[0m\n\u001b[0m\u001b[1;32m      4\u001b[0m     \u001b[0;32mif\u001b[0m \u001b[0mline\u001b[0m \u001b[0;34m==\u001b[0m \u001b[0;36m0\u001b[0m\u001b[0;34m:\u001b[0m\u001b[0;34m\u001b[0m\u001b[0;34m\u001b[0m\u001b[0m\n\u001b[1;32m      5\u001b[0m       \u001b[0;32mcontinue\u001b[0m\u001b[0;34m\u001b[0m\u001b[0;34m\u001b[0m\u001b[0m\n",
            "\u001b[0;32m/usr/local/lib/python3.10/dist-packages/ipykernel/kernelbase.py\u001b[0m in \u001b[0;36mraw_input\u001b[0;34m(self, prompt)\u001b[0m\n\u001b[1;32m    849\u001b[0m                 \u001b[0;34m\"raw_input was called, but this frontend does not support input requests.\"\u001b[0m\u001b[0;34m\u001b[0m\u001b[0;34m\u001b[0m\u001b[0m\n\u001b[1;32m    850\u001b[0m             )\n\u001b[0;32m--> 851\u001b[0;31m         return self._input_request(str(prompt),\n\u001b[0m\u001b[1;32m    852\u001b[0m             \u001b[0mself\u001b[0m\u001b[0;34m.\u001b[0m\u001b[0m_parent_ident\u001b[0m\u001b[0;34m,\u001b[0m\u001b[0;34m\u001b[0m\u001b[0;34m\u001b[0m\u001b[0m\n\u001b[1;32m    853\u001b[0m             \u001b[0mself\u001b[0m\u001b[0;34m.\u001b[0m\u001b[0m_parent_header\u001b[0m\u001b[0;34m,\u001b[0m\u001b[0;34m\u001b[0m\u001b[0;34m\u001b[0m\u001b[0m\n",
            "\u001b[0;32m/usr/local/lib/python3.10/dist-packages/ipykernel/kernelbase.py\u001b[0m in \u001b[0;36m_input_request\u001b[0;34m(self, prompt, ident, parent, password)\u001b[0m\n\u001b[1;32m    893\u001b[0m             \u001b[0;32mexcept\u001b[0m \u001b[0mKeyboardInterrupt\u001b[0m\u001b[0;34m:\u001b[0m\u001b[0;34m\u001b[0m\u001b[0;34m\u001b[0m\u001b[0m\n\u001b[1;32m    894\u001b[0m                 \u001b[0;31m# re-raise KeyboardInterrupt, to truncate traceback\u001b[0m\u001b[0;34m\u001b[0m\u001b[0;34m\u001b[0m\u001b[0m\n\u001b[0;32m--> 895\u001b[0;31m                 \u001b[0;32mraise\u001b[0m \u001b[0mKeyboardInterrupt\u001b[0m\u001b[0;34m(\u001b[0m\u001b[0;34m\"Interrupted by user\"\u001b[0m\u001b[0;34m)\u001b[0m \u001b[0;32mfrom\u001b[0m \u001b[0;32mNone\u001b[0m\u001b[0;34m\u001b[0m\u001b[0;34m\u001b[0m\u001b[0m\n\u001b[0m\u001b[1;32m    896\u001b[0m             \u001b[0;32mexcept\u001b[0m \u001b[0mException\u001b[0m \u001b[0;32mas\u001b[0m \u001b[0me\u001b[0m\u001b[0;34m:\u001b[0m\u001b[0;34m\u001b[0m\u001b[0;34m\u001b[0m\u001b[0m\n\u001b[1;32m    897\u001b[0m                 \u001b[0mself\u001b[0m\u001b[0;34m.\u001b[0m\u001b[0mlog\u001b[0m\u001b[0;34m.\u001b[0m\u001b[0mwarning\u001b[0m\u001b[0;34m(\u001b[0m\u001b[0;34m\"Invalid Message:\"\u001b[0m\u001b[0;34m,\u001b[0m \u001b[0mexc_info\u001b[0m\u001b[0;34m=\u001b[0m\u001b[0;32mTrue\u001b[0m\u001b[0;34m)\u001b[0m\u001b[0;34m\u001b[0m\u001b[0;34m\u001b[0m\u001b[0m\n",
            "\u001b[0;31mKeyboardInterrupt\u001b[0m: Interrupted by user"
          ]
        }
      ]
    },
    {
      "cell_type": "code",
      "source": [
        "#1267\n",
        "n2= int(input())\n",
        "money = list(map(int, input().split()))\n",
        "\n",
        "young =0\n",
        "min =0\n",
        "y_t=0\n",
        "m_t =0\n",
        "for i in range(n):\n",
        "  young = (tmp[i]//30 ) *10 + 10\n",
        "  y_t = y_t + young\n",
        "  min = (tmp[i]// 60) *15 + 15\n",
        "  m_t = m_t + min\n",
        "\n",
        "if y_t > m_t:\n",
        "  print('M',m_t)\n",
        "elif m_t> y_t:\n",
        "  print('Y',y_t)\n",
        "elif m_t == y_t:\n",
        "  print('Y','M',y_t)"
      ],
      "metadata": {
        "colab": {
          "base_uri": "https://localhost:8080/",
          "height": 246
        },
        "id": "Gy_COdtxRurf",
        "outputId": "18f4ef68-d94b-4250-feec-07805797e881"
      },
      "execution_count": null,
      "outputs": [
        {
          "output_type": "error",
          "ename": "ValueError",
          "evalue": "ignored",
          "traceback": [
            "\u001b[0;31m---------------------------------------------------------------------------\u001b[0m",
            "\u001b[0;31mValueError\u001b[0m                                Traceback (most recent call last)",
            "\u001b[0;32m<ipython-input-57-2919a616fa9e>\u001b[0m in \u001b[0;36m<cell line: 2>\u001b[0;34m()\u001b[0m\n\u001b[1;32m      1\u001b[0m \u001b[0;31m#1267\u001b[0m\u001b[0;34m\u001b[0m\u001b[0;34m\u001b[0m\u001b[0m\n\u001b[0;32m----> 2\u001b[0;31m \u001b[0mn2\u001b[0m\u001b[0;34m=\u001b[0m \u001b[0mint\u001b[0m\u001b[0;34m(\u001b[0m\u001b[0minput\u001b[0m\u001b[0;34m(\u001b[0m\u001b[0;34m)\u001b[0m\u001b[0;34m)\u001b[0m\u001b[0;34m\u001b[0m\u001b[0;34m\u001b[0m\u001b[0m\n\u001b[0m\u001b[1;32m      3\u001b[0m \u001b[0mmoney\u001b[0m \u001b[0;34m=\u001b[0m \u001b[0mlist\u001b[0m\u001b[0;34m(\u001b[0m\u001b[0mmap\u001b[0m\u001b[0;34m(\u001b[0m\u001b[0mint\u001b[0m\u001b[0;34m,\u001b[0m \u001b[0minput\u001b[0m\u001b[0;34m(\u001b[0m\u001b[0;34m)\u001b[0m\u001b[0;34m.\u001b[0m\u001b[0msplit\u001b[0m\u001b[0;34m(\u001b[0m\u001b[0;34m)\u001b[0m\u001b[0;34m)\u001b[0m\u001b[0;34m)\u001b[0m\u001b[0;34m\u001b[0m\u001b[0;34m\u001b[0m\u001b[0m\n\u001b[1;32m      4\u001b[0m \u001b[0;34m\u001b[0m\u001b[0m\n\u001b[1;32m      5\u001b[0m \u001b[0myoung\u001b[0m \u001b[0;34m=\u001b[0m\u001b[0;36m0\u001b[0m\u001b[0;34m\u001b[0m\u001b[0;34m\u001b[0m\u001b[0m\n",
            "\u001b[0;31mValueError\u001b[0m: invalid literal for int() with base 10: ''"
          ]
        }
      ]
    },
    {
      "cell_type": "code",
      "source": [
        "n = int(input())\n",
        "money = list(map(int, input().split()))\n",
        "\n",
        "young =0\n",
        "min =0\n",
        "y_t=0\n",
        "m_t =0\n",
        "for i in range(n):\n",
        "  young = (money[i]//30 ) *10 + 10\n",
        "  y_t = y_t + young\n",
        "  min = (money[i]// 60) *15 + 15\n",
        "  m_t = m_t + min\n",
        "\n",
        "if y_t > m_t:\n",
        "  print('M',m_t)\n",
        "elif m_t> y_t:\n",
        "  print('Y',y_t)\n",
        "elif m_t == y_t:\n",
        "  print('Y','M',y_t)"
      ],
      "metadata": {
        "colab": {
          "base_uri": "https://localhost:8080/",
          "height": 246
        },
        "id": "1zhARGHbElT_",
        "outputId": "ee498a3e-fd2f-47f1-f1bc-4f42c788046a"
      },
      "execution_count": null,
      "outputs": [
        {
          "output_type": "error",
          "ename": "ValueError",
          "evalue": "ignored",
          "traceback": [
            "\u001b[0;31m---------------------------------------------------------------------------\u001b[0m",
            "\u001b[0;31mValueError\u001b[0m                                Traceback (most recent call last)",
            "\u001b[0;32m<ipython-input-59-44f69367d542>\u001b[0m in \u001b[0;36m<cell line: 1>\u001b[0;34m()\u001b[0m\n\u001b[0;32m----> 1\u001b[0;31m \u001b[0mn\u001b[0m \u001b[0;34m=\u001b[0m \u001b[0mint\u001b[0m\u001b[0;34m(\u001b[0m\u001b[0minput\u001b[0m\u001b[0;34m(\u001b[0m\u001b[0;34m)\u001b[0m\u001b[0;34m)\u001b[0m\u001b[0;34m\u001b[0m\u001b[0;34m\u001b[0m\u001b[0m\n\u001b[0m\u001b[1;32m      2\u001b[0m \u001b[0mmoney\u001b[0m \u001b[0;34m=\u001b[0m \u001b[0mlist\u001b[0m\u001b[0;34m(\u001b[0m\u001b[0mmap\u001b[0m\u001b[0;34m(\u001b[0m\u001b[0mint\u001b[0m\u001b[0;34m,\u001b[0m \u001b[0minput\u001b[0m\u001b[0;34m(\u001b[0m\u001b[0;34m)\u001b[0m\u001b[0;34m.\u001b[0m\u001b[0msplit\u001b[0m\u001b[0;34m(\u001b[0m\u001b[0;34m)\u001b[0m\u001b[0;34m)\u001b[0m\u001b[0;34m)\u001b[0m\u001b[0;34m\u001b[0m\u001b[0;34m\u001b[0m\u001b[0m\n\u001b[1;32m      3\u001b[0m \u001b[0;34m\u001b[0m\u001b[0m\n\u001b[1;32m      4\u001b[0m \u001b[0myoung\u001b[0m \u001b[0;34m=\u001b[0m\u001b[0;36m0\u001b[0m\u001b[0;34m\u001b[0m\u001b[0;34m\u001b[0m\u001b[0m\n\u001b[1;32m      5\u001b[0m \u001b[0mmin\u001b[0m \u001b[0;34m=\u001b[0m\u001b[0;36m0\u001b[0m\u001b[0;34m\u001b[0m\u001b[0;34m\u001b[0m\u001b[0m\n",
            "\u001b[0;31mValueError\u001b[0m: invalid literal for int() with base 10: ''"
          ]
        }
      ]
    },
    {
      "cell_type": "code",
      "source": [
        "while True:\n",
        "  str =0\n",
        "  a =list(map(int,input()))\n",
        "  if a[0] == 0:\n",
        "    break\n",
        "  for i in range(len(a)):\n",
        "    if a[i] ==0:\n",
        "      str =str+4\n",
        "\n",
        "    elif a[i] == 1:\n",
        "      str =str+2\n",
        "    else:\n",
        "      str =str+3  \n",
        "  print(1+1+(len(a)-1)+str)\n",
        "  \n",
        "\n",
        "\n"
      ],
      "metadata": {
        "colab": {
          "base_uri": "https://localhost:8080/"
        },
        "id": "6GZqjBx1VeLp",
        "outputId": "1781c1be-ff33-4854-ec0e-c9be73e1a1a5"
      },
      "execution_count": null,
      "outputs": [
        {
          "name": "stdout",
          "output_type": "stream",
          "text": [
            "0\n"
          ]
        }
      ]
    },
    {
      "cell_type": "code",
      "source": [
        "a =list(map(int,input()))\n"
      ],
      "metadata": {
        "id": "EDs9B18sh_e8"
      },
      "execution_count": null,
      "outputs": []
    },
    {
      "cell_type": "code",
      "source": [
        "print('\\\\    /\\\\')\n",
        "print(')  ( \\')')\n",
        "print('(  /  )')\n",
        "print( '\\(__)|')"
      ],
      "metadata": {
        "colab": {
          "base_uri": "https://localhost:8080/"
        },
        "id": "4SVkJl0f0VZb",
        "outputId": "d90e0b83-46e6-424c-ab82-7d26e5c259f7"
      },
      "execution_count": null,
      "outputs": [
        {
          "output_type": "stream",
          "name": "stdout",
          "text": [
            "\\    /\\\n",
            ")  ( ')\n",
            "(  /  )\n",
            "\\(__)|\n"
          ]
        }
      ]
    },
    {
      "cell_type": "code",
      "source": [
        "#1547\n",
        "line = int(input())\n",
        "main = 1\n",
        "for i in range(line):\n",
        "  a,b = map(int,input().split())\n",
        "  if a == main:\n",
        "    main = b\n",
        "\n",
        "  elif b == main:\n",
        "    main = a\n",
        "    \n",
        "  else:\n",
        "    pass\n",
        "print(main) \n",
        "\n",
        "\n"
      ],
      "metadata": {
        "colab": {
          "base_uri": "https://localhost:8080/"
        },
        "id": "ANoi1jV01dr7",
        "outputId": "fd31e2fe-d0e9-4d4f-bb24-bd84fea6a270"
      },
      "execution_count": null,
      "outputs": [
        {
          "output_type": "stream",
          "name": "stdout",
          "text": [
            "4\n",
            "3 1\n",
            "3\n",
            "2 3\n",
            "2\n",
            "3 1\n",
            "3 2\n",
            "3\n",
            "3\n"
          ]
        }
      ]
    },
    {
      "cell_type": "code",
      "source": [
        "#1598\n",
        "list1 = [[0 for col in range(10)] for row in range(4)]\n",
        "\n",
        "\n",
        "\n",
        "\n",
        "\n",
        "for i in range(0,4):\n",
        "  for j in range(0,10):\n",
        "    # list[i][j] = (i+1)+ 4*j\n",
        "    list1[i][j] = (i+1) + 4* j\n",
        "    \n",
        "\n",
        "7\n",
        "a,b = map(int,input().split())\n",
        "t = int(((max(a,b) -min(a,b) ) / 4)) +1\n",
        " \n",
        "\n",
        "print(((max(a,b) -min(a,b) ) / 4 +1) +   abs((min(a,b) + 4 * t) - max(a,b)))\n",
        "    \n",
        "\n",
        "\n",
        "    \n",
        "\n",
        "    "
      ],
      "metadata": {
        "colab": {
          "base_uri": "https://localhost:8080/"
        },
        "id": "mBmKQ4rD1eKg",
        "outputId": "bd455b65-0955-436f-8e68-4f769a60205d"
      },
      "execution_count": null,
      "outputs": [
        {
          "output_type": "stream",
          "name": "stdout",
          "text": [
            "7 15\n",
            "7\n"
          ]
        }
      ]
    },
    {
      "cell_type": "code",
      "source": [
        "a,b = map(int,input().split())\n",
        "a -=1 \n",
        "b -=1\n",
        "print(abs(a//4-b//4)+ abs(a%4 - b%4))"
      ],
      "metadata": {
        "colab": {
          "base_uri": "https://localhost:8080/"
        },
        "id": "QgzCbA0r1enH",
        "outputId": "ecf0db05-8785-433f-fa11-a5f7ea65c385"
      },
      "execution_count": null,
      "outputs": [
        {
          "output_type": "stream",
          "name": "stdout",
          "text": [
            "11 33\n",
            "8\n"
          ]
        }
      ]
    },
    {
      "cell_type": "code",
      "source": [
        "#1703\n",
        "while True:\n",
        "  a =list(map(int,input().split()))\n",
        "  if a[0] ==0:\n",
        "    break\n",
        "  tmp =0\n",
        "  leaf =1\n",
        "  for i in range(1,len(a),2):\n",
        "    leaf=(leaf)*a[i] - a[i+1]\n",
        "    \n",
        "  print(leaf)\n",
        "    \n",
        "  \n",
        "    \n",
        "    \n"
      ],
      "metadata": {
        "colab": {
          "base_uri": "https://localhost:8080/"
        },
        "id": "BW9B91AJLRyW",
        "outputId": "c254288f-f18a-4e3f-f935-d861ae92a6cf"
      },
      "execution_count": null,
      "outputs": [
        {
          "name": "stdout",
          "output_type": "stream",
          "text": [
            "1 3 0\n",
            "3\n",
            "2 3 0 2 0\n",
            "6\n",
            "0\n"
          ]
        }
      ]
    },
    {
      "cell_type": "code",
      "source": [
        "#1837\n",
        "import sys \n",
        "input = sys.stdin.readline\n",
        "a,b = map(int,input().split())\n",
        "num =[]\n",
        "for i in range(2,a):\n",
        "  if a % i ==0:\n",
        "    num.append(i)\n",
        "if num[0] > b and num[1] > b:\n",
        "  print(\"GOOD\")\n",
        "else:\n",
        "  print(\"BAD\",min(num[0],num[1]))"
      ],
      "metadata": {
        "colab": {
          "base_uri": "https://localhost:8080/"
        },
        "id": "1Z2bDGdkLR8x",
        "outputId": "97c9efe2-78ca-4523-d6ef-47b34e640473"
      },
      "execution_count": null,
      "outputs": [
        {
          "output_type": "stream",
          "name": "stdout",
          "text": [
            "77 12\n",
            "BAD 7\n"
          ]
        }
      ]
    },
    {
      "cell_type": "code",
      "source": [
        "import sys \n",
        "input = sys.stdin.readline\n",
        "a,b = map(int,input().split())\n",
        "for i in range(2,a):\n",
        "  if a % i ==0:\n",
        "    if i> b:\n",
        "      print(\"Good\")\n",
        "    elif i<b:\n",
        "      print(\"BAD\",i)\n",
        "      break\n",
        " "
      ],
      "metadata": {
        "colab": {
          "base_uri": "https://localhost:8080/",
          "height": 248
        },
        "id": "DOK2HUskLSCI",
        "outputId": "0aeb6f87-6dc3-4ccc-ead4-a01a0fa9527e"
      },
      "execution_count": null,
      "outputs": [
        {
          "output_type": "error",
          "ename": "ValueError",
          "evalue": "ignored",
          "traceback": [
            "\u001b[0;31m---------------------------------------------------------------------------\u001b[0m",
            "\u001b[0;31mValueError\u001b[0m                                Traceback (most recent call last)",
            "\u001b[0;32m<ipython-input-57-64911bdf6117>\u001b[0m in \u001b[0;36m<cell line: 3>\u001b[0;34m()\u001b[0m\n\u001b[1;32m      1\u001b[0m \u001b[0;32mimport\u001b[0m \u001b[0msys\u001b[0m\u001b[0;34m\u001b[0m\u001b[0;34m\u001b[0m\u001b[0m\n\u001b[1;32m      2\u001b[0m \u001b[0minput\u001b[0m \u001b[0;34m=\u001b[0m \u001b[0msys\u001b[0m\u001b[0;34m.\u001b[0m\u001b[0mstdin\u001b[0m\u001b[0;34m.\u001b[0m\u001b[0mreadline\u001b[0m\u001b[0;34m\u001b[0m\u001b[0;34m\u001b[0m\u001b[0m\n\u001b[0;32m----> 3\u001b[0;31m \u001b[0ma\u001b[0m\u001b[0;34m,\u001b[0m\u001b[0mb\u001b[0m \u001b[0;34m=\u001b[0m \u001b[0mmap\u001b[0m\u001b[0;34m(\u001b[0m\u001b[0mint\u001b[0m\u001b[0;34m,\u001b[0m\u001b[0minput\u001b[0m\u001b[0;34m(\u001b[0m\u001b[0;34m)\u001b[0m\u001b[0;34m.\u001b[0m\u001b[0msplit\u001b[0m\u001b[0;34m(\u001b[0m\u001b[0;34m)\u001b[0m\u001b[0;34m)\u001b[0m\u001b[0;34m\u001b[0m\u001b[0;34m\u001b[0m\u001b[0m\n\u001b[0m\u001b[1;32m      4\u001b[0m \u001b[0;32mfor\u001b[0m \u001b[0mi\u001b[0m \u001b[0;32min\u001b[0m \u001b[0mrange\u001b[0m\u001b[0;34m(\u001b[0m\u001b[0;36m2\u001b[0m\u001b[0;34m,\u001b[0m\u001b[0ma\u001b[0m\u001b[0;34m)\u001b[0m\u001b[0;34m:\u001b[0m\u001b[0;34m\u001b[0m\u001b[0;34m\u001b[0m\u001b[0m\n\u001b[1;32m      5\u001b[0m   \u001b[0;32mif\u001b[0m \u001b[0ma\u001b[0m \u001b[0;34m%\u001b[0m \u001b[0mi\u001b[0m \u001b[0;34m==\u001b[0m\u001b[0;36m0\u001b[0m\u001b[0;34m:\u001b[0m\u001b[0;34m\u001b[0m\u001b[0;34m\u001b[0m\u001b[0m\n",
            "\u001b[0;31mValueError\u001b[0m: not enough values to unpack (expected 2, got 0)"
          ]
        }
      ]
    },
    {
      "cell_type": "code",
      "source": [
        "\n",
        "a,b = map(int,input().split())\n",
        "check =True\n",
        "for i in range(2,b):\n",
        "  if a % i ==0:\n",
        "    print(\"BAD\",i)\n",
        "    break\n",
        "    check = False\n",
        "if check:\n",
        "  print(\"GOOD\")"
      ],
      "metadata": {
        "colab": {
          "base_uri": "https://localhost:8080/",
          "height": 248
        },
        "id": "QOUc3RxTLSG9",
        "outputId": "1f46dcfc-1b47-4604-a853-4d498d9d11da"
      },
      "execution_count": null,
      "outputs": [
        {
          "output_type": "error",
          "ename": "ValueError",
          "evalue": "ignored",
          "traceback": [
            "\u001b[0;31m---------------------------------------------------------------------------\u001b[0m",
            "\u001b[0;31mValueError\u001b[0m                                Traceback (most recent call last)",
            "\u001b[0;32m<ipython-input-58-13d4fa508e36>\u001b[0m in \u001b[0;36m<cell line: 3>\u001b[0;34m()\u001b[0m\n\u001b[1;32m      1\u001b[0m \u001b[0;32mimport\u001b[0m \u001b[0msys\u001b[0m\u001b[0;34m\u001b[0m\u001b[0;34m\u001b[0m\u001b[0m\n\u001b[1;32m      2\u001b[0m \u001b[0minput\u001b[0m \u001b[0;34m=\u001b[0m \u001b[0msys\u001b[0m\u001b[0;34m.\u001b[0m\u001b[0mstdin\u001b[0m\u001b[0;34m.\u001b[0m\u001b[0mreadline\u001b[0m\u001b[0;34m\u001b[0m\u001b[0;34m\u001b[0m\u001b[0m\n\u001b[0;32m----> 3\u001b[0;31m \u001b[0ma\u001b[0m\u001b[0;34m,\u001b[0m\u001b[0mb\u001b[0m \u001b[0;34m=\u001b[0m \u001b[0mmap\u001b[0m\u001b[0;34m(\u001b[0m\u001b[0mint\u001b[0m\u001b[0;34m,\u001b[0m\u001b[0minput\u001b[0m\u001b[0;34m(\u001b[0m\u001b[0;34m)\u001b[0m\u001b[0;34m.\u001b[0m\u001b[0msplit\u001b[0m\u001b[0;34m(\u001b[0m\u001b[0;34m)\u001b[0m\u001b[0;34m)\u001b[0m\u001b[0;34m\u001b[0m\u001b[0;34m\u001b[0m\u001b[0m\n\u001b[0m\u001b[1;32m      4\u001b[0m \u001b[0;32mfor\u001b[0m \u001b[0mi\u001b[0m \u001b[0;32min\u001b[0m \u001b[0mrange\u001b[0m\u001b[0;34m(\u001b[0m\u001b[0;36m2\u001b[0m\u001b[0;34m,\u001b[0m\u001b[0ma\u001b[0m\u001b[0;34m)\u001b[0m\u001b[0;34m:\u001b[0m\u001b[0;34m\u001b[0m\u001b[0;34m\u001b[0m\u001b[0m\n\u001b[1;32m      5\u001b[0m   \u001b[0;32mif\u001b[0m \u001b[0ma\u001b[0m \u001b[0;34m%\u001b[0m \u001b[0mi\u001b[0m \u001b[0;34m==\u001b[0m\u001b[0;36m0\u001b[0m\u001b[0;34m:\u001b[0m\u001b[0;34m\u001b[0m\u001b[0;34m\u001b[0m\u001b[0m\n",
            "\u001b[0;31mValueError\u001b[0m: not enough values to unpack (expected 2, got 0)"
          ]
        }
      ]
    },
    {
      "cell_type": "code",
      "source": [
        "#1009\n",
        "a = int(input())\n",
        "for i in range(a):\n",
        "  b,c = map(int,input().split())\n",
        "  print((b**c) % c )\n"
      ],
      "metadata": {
        "colab": {
          "base_uri": "https://localhost:8080/",
          "height": 248
        },
        "id": "tcXVTKRTX0H-",
        "outputId": "77e8e71f-a41a-42a4-c05f-f855f10e9912"
      },
      "execution_count": null,
      "outputs": [
        {
          "output_type": "error",
          "ename": "ValueError",
          "evalue": "ignored",
          "traceback": [
            "\u001b[0;31m---------------------------------------------------------------------------\u001b[0m",
            "\u001b[0;31mValueError\u001b[0m                                Traceback (most recent call last)",
            "\u001b[0;32m<ipython-input-4-4579668e9fdb>\u001b[0m in \u001b[0;36m<cell line: 2>\u001b[0;34m()\u001b[0m\n\u001b[1;32m      1\u001b[0m \u001b[0;31m#1009\u001b[0m\u001b[0;34m\u001b[0m\u001b[0;34m\u001b[0m\u001b[0m\n\u001b[0;32m----> 2\u001b[0;31m \u001b[0ma\u001b[0m \u001b[0;34m=\u001b[0m \u001b[0mint\u001b[0m\u001b[0;34m(\u001b[0m\u001b[0minput\u001b[0m\u001b[0;34m(\u001b[0m\u001b[0;34m)\u001b[0m\u001b[0;34m)\u001b[0m\u001b[0;34m\u001b[0m\u001b[0;34m\u001b[0m\u001b[0m\n\u001b[0m\u001b[1;32m      3\u001b[0m \u001b[0;32mfor\u001b[0m \u001b[0mi\u001b[0m \u001b[0;32min\u001b[0m \u001b[0mrange\u001b[0m\u001b[0;34m(\u001b[0m\u001b[0ma\u001b[0m\u001b[0;34m)\u001b[0m\u001b[0;34m:\u001b[0m\u001b[0;34m\u001b[0m\u001b[0;34m\u001b[0m\u001b[0m\n\u001b[1;32m      4\u001b[0m   \u001b[0mb\u001b[0m\u001b[0;34m,\u001b[0m\u001b[0mc\u001b[0m \u001b[0;34m=\u001b[0m \u001b[0mmap\u001b[0m\u001b[0;34m(\u001b[0m\u001b[0mint\u001b[0m\u001b[0;34m,\u001b[0m\u001b[0minput\u001b[0m\u001b[0;34m(\u001b[0m\u001b[0;34m)\u001b[0m\u001b[0;34m.\u001b[0m\u001b[0msplit\u001b[0m\u001b[0;34m(\u001b[0m\u001b[0;34m)\u001b[0m\u001b[0;34m)\u001b[0m\u001b[0;34m\u001b[0m\u001b[0;34m\u001b[0m\u001b[0m\n\u001b[1;32m      5\u001b[0m   \u001b[0mprint\u001b[0m\u001b[0;34m(\u001b[0m\u001b[0;34m(\u001b[0m\u001b[0mb\u001b[0m\u001b[0;34m**\u001b[0m\u001b[0mc\u001b[0m\u001b[0;34m)\u001b[0m \u001b[0;34m%\u001b[0m \u001b[0mc\u001b[0m \u001b[0;34m)\u001b[0m\u001b[0;34m\u001b[0m\u001b[0;34m\u001b[0m\u001b[0m\n",
            "\u001b[0;31mValueError\u001b[0m: invalid literal for int() with base 10: ''"
          ]
        }
      ]
    },
    {
      "cell_type": "markdown",
      "source": [
        "a = int(input())\n",
        "\n",
        "for i in range(a):\n",
        "  b,c = map(int,input().split())\n",
        "  bb = b %10\n",
        "  \n",
        "  if b % 10  == 0:\n",
        "    print(10)\n",
        "  elif bb in [1,5,6]:\n",
        "    print(bb)\n",
        "  elif bb in [4,9]:\n",
        "    cc = c %2\n",
        "    if c %2 ==1:\n",
        "      print(bb)\n",
        "    else:\n",
        "      print(bb ** cc % 10)\n",
        "  else:\n",
        "    cc = c % 4\n",
        "    if cc == 0:\n",
        "      print(bb ** 4 %10)\n",
        "    else:\n",
        "      print(bb**cc %10)\n",
        "\n",
        "      \n",
        "    "
      ],
      "metadata": {
        "id": "5L5_3dPRYHT7"
      }
    },
    {
      "cell_type": "code",
      "source": [
        "#1075\n",
        "a = (input())\n",
        "b= int(input())\n",
        "\n",
        "f = int(a[:-2]+'00')\n",
        "\n",
        "while True:\n",
        "\n",
        "  if f % b ==0:\n",
        "    break\n",
        "  else:\n",
        "    f +=1\n",
        "print(str(f)[-2:])\n",
        "\n",
        "\n",
        "\n",
        "\n",
        "# if a[-2:] == '00' and aa % bb ==0:\n",
        "#   print('00')\n",
        "# elif aa % bb != 0 and a[-2:] == '00':\n",
        "#   result = aa//bb+1\n",
        "#   print(result * bb)\n"
      ],
      "metadata": {
        "colab": {
          "base_uri": "https://localhost:8080/"
        },
        "id": "HhzOUIWjhf3B",
        "outputId": "27968f43-54f6-4f71-c85d-670e17982ebd"
      },
      "execution_count": null,
      "outputs": [
        {
          "output_type": "stream",
          "name": "stdout",
          "text": [
            "1000\n",
            "3\n",
            "02\n"
          ]
        }
      ]
    },
    {
      "cell_type": "code",
      "source": [
        "color =['black','brown','red','orange','yellow','green','blue','violet','grey','white']\n",
        "\n",
        "first = input()\n",
        "sec = input()\n",
        "th = input()\n",
        "\n",
        "for i in color:\n",
        "  if first == i:\n",
        "    idx=color.index(i)\n",
        "  if sec == i:\n",
        "    idx2=color.index(i)\n",
        "  if th == i:\n",
        "    idx3 = color.index(i)\n",
        "    idx4 = 10**idx3\n",
        "\n",
        "idx5=int(str(idx)+str(idx2)) * idx4 \n",
        "print(idx5)\n",
        "\n",
        "  "
      ],
      "metadata": {
        "colab": {
          "base_uri": "https://localhost:8080/"
        },
        "id": "DvFk4Ft6j_qp",
        "outputId": "bb8b923f-71d8-47fa-81dc-1f85514d33e6"
      },
      "execution_count": null,
      "outputs": [
        {
          "output_type": "stream",
          "name": "stdout",
          "text": [
            "yellow\n",
            "violet\n",
            "red\n",
            "4700\n"
          ]
        }
      ]
    },
    {
      "cell_type": "code",
      "source": [
        "str = input().split()\n",
        "\n",
        "i=0\n",
        "for _ in str:\n",
        "  i = i +1\n",
        "print(i)\n"
      ],
      "metadata": {
        "colab": {
          "base_uri": "https://localhost:8080/"
        },
        "id": "tnFcx6HtHAl2",
        "outputId": "d31106a0-5319-4bc2-c92a-25137e855081"
      },
      "execution_count": null,
      "outputs": [
        {
          "output_type": "stream",
          "name": "stdout",
          "text": [
            "habe a good\n",
            "3\n"
          ]
        }
      ]
    },
    {
      "cell_type": "code",
      "source": [
        "#1212\n",
        "x =(input())\n",
        "oxt =0\n",
        "for i in range(len(x)):\n",
        "  ox = int(x[i]) * (8**(len(x)-1-i))\n",
        "  oxt = ox +oxt\n",
        "\n",
        "num = []\n",
        "while 1:\n",
        "  \n",
        "  bw = oxt %2\n",
        "\n",
        "  num.append(bw)\n",
        "  bw=oxt // 2\n",
        "  oxt = bw\n",
        " \n",
        "  if bw  == 1:\n",
        "    num.append(1)\n",
        "    break\n",
        "\n",
        "for j in range(len(num)-1,-1,-1):\n",
        "  print(num[j],end=\"\")\n",
        "\n"
      ],
      "metadata": {
        "colab": {
          "base_uri": "https://localhost:8080/"
        },
        "id": "OQMUSjWZHVYq",
        "outputId": "34396cb7-f04f-4d06-8b99-6140cf8422bb"
      },
      "execution_count": null,
      "outputs": [
        {
          "output_type": "stream",
          "name": "stdout",
          "text": [
            "314\n",
            "11001100"
          ]
        }
      ]
    },
    {
      "cell_type": "code",
      "source": [
        "print(bin(int(input(),8))[2:])\n",
        "\n",
        "#oct() 8진수 변환"
      ],
      "metadata": {
        "colab": {
          "base_uri": "https://localhost:8080/"
        },
        "id": "5JrxbawvRN3N",
        "outputId": "13b30713-9798-4f92-9390-08a18bac424f"
      },
      "execution_count": null,
      "outputs": [
        {
          "output_type": "stream",
          "name": "stdout",
          "text": [
            "314\n",
            "11001100\n"
          ]
        }
      ]
    },
    {
      "cell_type": "code",
      "source": [
        "#1225\n",
        "a,b = input().split()\n",
        "\n",
        "aa = str(a)\n",
        "bb = str(b)\n",
        "# mx = max(len(aa),len(bb))\n",
        "tot =0\n",
        "for i in aa:\n",
        "  for j in bb:\n",
        "    tot =int(i) * int(j) + tot\n",
        "print(tot)\n",
        "    \n",
        "   "
      ],
      "metadata": {
        "colab": {
          "base_uri": "https://localhost:8080/"
        },
        "id": "r0EiqwucSiWs",
        "outputId": "bdcd4713-72d3-4a11-e51a-822260732ed3"
      },
      "execution_count": null,
      "outputs": [
        {
          "output_type": "stream",
          "name": "stdout",
          "text": [
            "123 45\n",
            "54\n"
          ]
        }
      ]
    },
    {
      "cell_type": "code",
      "source": [
        "a,b = input().split()\n",
        "\n",
        "a = list(map(int,a))\n",
        "b = list(map(int,b))\n",
        "\n",
        "tot = sum(a) * sum(b)\n",
        "\n",
        "print(tot)\n"
      ],
      "metadata": {
        "colab": {
          "base_uri": "https://localhost:8080/"
        },
        "id": "Z0_s30UUVJ_N",
        "outputId": "720db11f-833c-4172-e395-2d8ad51f2e1e"
      },
      "execution_count": null,
      "outputs": [
        {
          "output_type": "stream",
          "name": "stdout",
          "text": [
            "123 45\n",
            "54\n"
          ]
        }
      ]
    },
    {
      "cell_type": "code",
      "source": [
        "#1032\n",
        "a = int(input())\n",
        "first = list(input())\n",
        "first_len = len(first)\n",
        "\n",
        "for i in range(a-1):\n",
        "  other = list(input())\n",
        "  for j in range(0,first_len):\n",
        "    if first[j] != other[j]:\n",
        "      first[j] = '?'\n",
        "\n",
        "print(\"\".join(first))\n",
        "  \n",
        "\n",
        "\n",
        "\n",
        "\n",
        "\n",
        "  \n",
        "\n",
        "\n"
      ],
      "metadata": {
        "colab": {
          "base_uri": "https://localhost:8080/"
        },
        "id": "QfICDAK2XMAD",
        "outputId": "deb841d3-5e0e-4505-84c0-19891e372a96"
      },
      "execution_count": null,
      "outputs": [
        {
          "output_type": "stream",
          "name": "stdout",
          "text": [
            "3\n",
            "config11\n",
            "config22\n",
            "config33\n",
            "config??\n"
          ]
        }
      ]
    },
    {
      "cell_type": "code",
      "source": [
        "#1037\n",
        "\n",
        "a = int(input())\n",
        "b = list(map(int,input().split()))\n",
        "\n",
        "print(min(b) * max(b)) \n",
        "\n"
      ],
      "metadata": {
        "colab": {
          "base_uri": "https://localhost:8080/"
        },
        "id": "PKJx6Cmfh5vf",
        "outputId": "0e445f0a-2143-4884-8192-5319ac26c4d8"
      },
      "execution_count": null,
      "outputs": [
        {
          "name": "stdout",
          "output_type": "stream",
          "text": [
            "2\n",
            "4 2\n"
          ]
        },
        {
          "output_type": "execute_result",
          "data": {
            "text/plain": [
              "2"
            ]
          },
          "metadata": {},
          "execution_count": 29
        }
      ]
    },
    {
      "cell_type": "code",
      "source": [
        "#1110\n",
        "num = (input())\n",
        "n1 = int(num[0])\n",
        "n2 = int(num[1])\n",
        "if int(num) < 10:\n",
        "  num = int(num) + 10\n",
        "\n",
        "\n",
        "anw = int(num[0]) + int(num[1])\n",
        "an=str(anw)[-1]\n",
        "\n",
        "# i=1\n",
        "# while 1:\n",
        "#   new = int(num[1])+ int(anw)\n",
        "  \n",
        "  \n",
        "#   i +=1\n",
        "#   if new == int(num[0]) + int(num[1]):\n",
        "#     print(i)\n",
        "#     break\n",
        "\n",
        "\n",
        "  \n",
        "\n"
      ],
      "metadata": {
        "colab": {
          "base_uri": "https://localhost:8080/"
        },
        "id": "YUXEYjOrkDht",
        "outputId": "7b5b3bd7-15b5-40d8-e550-900cafab438f"
      },
      "execution_count": null,
      "outputs": [
        {
          "output_type": "stream",
          "name": "stdout",
          "text": [
            "26\n",
            "8\n"
          ]
        }
      ]
    },
    {
      "cell_type": "code",
      "source": [
        "#1110\n",
        "num = (input())\n",
        "if int(num) < 10:\n",
        "  num = '0'+num\n",
        "n1 = int(num[0])\n",
        "n2 = int(num[1])\n",
        "\n",
        "i=0\n",
        "while 1:\n",
        "  \n",
        "  anw = n1 + n2\n",
        "  i =i+1\n",
        "  anw=int(str(anw)[-1])\n",
        "  n1 =n2\n",
        "  n2 =anw \n",
        "  ns=str(n1)+ str(n2)\n",
        "  if num ==ns  :\n",
        "    print(i)\n",
        "    break\n",
        "\n",
        "  \n",
        "\n",
        "    "
      ],
      "metadata": {
        "colab": {
          "base_uri": "https://localhost:8080/"
        },
        "id": "FGvihFQhAq0R",
        "outputId": "93e0ac69-3bc8-49f7-b275-0284ba9e1289"
      },
      "execution_count": null,
      "outputs": [
        {
          "output_type": "stream",
          "name": "stdout",
          "text": [
            "1\n",
            "60\n"
          ]
        }
      ]
    },
    {
      "cell_type": "code",
      "source": [
        "\n",
        "\n"
      ],
      "metadata": {
        "colab": {
          "base_uri": "https://localhost:8080/"
        },
        "id": "grewT5DoEn3p",
        "outputId": "84d35d99-3cc0-4763-a2f9-3457146e958d"
      },
      "execution_count": null,
      "outputs": [
        {
          "output_type": "stream",
          "name": "stdout",
          "text": [
            "30 42 70 35 90\n",
            "210\n"
          ]
        }
      ]
    },
    {
      "cell_type": "markdown",
      "source": [
        "#1157\n",
        "str = (input())\n",
        "Alpa = ['a', 'b', 'c', 'd', 'e', 'f', 'g', 'h', 'i', 'j', 'k', 'l', 'm', 'n', 'o', 'p', 'q', 'r', 's', 't', 'u', 'v', 'w', 'x', 'y', 'z']\n",
        "\n",
        "str = str.lower()\n",
        "cnt =0\n",
        "num_li = []\n",
        "for i in range(len(str)):\n",
        "  for j in range(len(str)):\n",
        "    if str[i] == str[j]:\n",
        "      cnt+=1\n",
        "      num_li.append(cnt)\n",
        "\n",
        "num_li.index(max(cnt))\n",
        "\n",
        "\n",
        "       \n",
        "\n",
        "      \n",
        "\n",
        "\n",
        "\n"
      ],
      "metadata": {
        "id": "WkAgojpAHHNB"
      }
    },
    {
      "cell_type": "code",
      "source": [
        "#1259\n",
        "while 1:\n",
        "  num = input()\n",
        "\n",
        "  if num =='0':\n",
        "    break\n",
        "\n",
        "  if num ==num[::-1]:\n",
        "    print(\"yes\")\n",
        "  else:\n",
        "    print(\"no\")\n",
        "\n",
        "#인덱싱으로 역순\n"
      ],
      "metadata": {
        "colab": {
          "base_uri": "https://localhost:8080/"
        },
        "id": "6EVSf05pnehm",
        "outputId": "e1703709-a51c-4604-ee81-7e928145f984"
      },
      "execution_count": null,
      "outputs": [
        {
          "name": "stdout",
          "output_type": "stream",
          "text": [
            "121\n",
            "yes\n",
            "1231\n",
            "no\n",
            "12421\n",
            "yes\n",
            "04\n",
            "no\n",
            "0\n"
          ]
        }
      ]
    },
    {
      "cell_type": "code",
      "source": [
        "#1296\n",
        "name = input()\n",
        "num = int(input())\n",
        "t_l =[]\n",
        "\n",
        "li = sorted([input() for i in range(num)])\n",
        "max =num2=0\n",
        "for i in range(num):\n",
        "  L = name.count(\"L\")+li[i].count(\"L\")\n",
        "  O = name.count(\"O\")+li[i].count(\"O\")\n",
        "  V = name.count(\"V\")+li[i].count(\"V\")\n",
        "  E = name.count(\"E\")+li[i].count(\"E\") \n",
        "  P = ((L+O) * (L+V) * (L+E) * (O+V) * (O+E) * (V+E)) % 100\n",
        "  if max < P:\n",
        "    max = P\n",
        "    num2 =i\n",
        "print(li[num2])\n",
        "\n",
        "\n",
        "# ms = input()\n",
        "# n = int(input())\n",
        "# li = sorted([input() for i in range(n)])\n",
        "# max_p = max_i = 0\n",
        "# for i in range(n):\n",
        "#     L = ms.count(\"L\") + li[i].count(\"L\")\n",
        "#     O = ms.count(\"O\") + li[i].count(\"O\")\n",
        "#     V = ms.count(\"V\") + li[i].count(\"V\")\n",
        "#     E = ms.count(\"E\") + li[i].count(\"E\")\n",
        "#     p = ((L+O)*(L+V)*(L+E)*(O+V)*(O+E)*(V+E)) % 100\n",
        "#     if max_p < p:\n",
        "#         max_p = p\n",
        "#         max_i = i\n",
        "# print(li[max_i])\n",
        "\n",
        "  \n",
        "\n"
      ],
      "metadata": {
        "id": "dBCfy0XVjvFN",
        "colab": {
          "base_uri": "https://localhost:8080/"
        },
        "outputId": "db08ea29-3dc7-4c0e-b648-990bc594cc82"
      },
      "execution_count": null,
      "outputs": [
        {
          "output_type": "stream",
          "name": "stdout",
          "text": [
            "waqe\n",
            "3\n",
            "asd\n",
            "xzc\n",
            "sad\n",
            "asd\n"
          ]
        }
      ]
    },
    {
      "cell_type": "code",
      "source": [
        "#2851\n",
        "num=[]\n",
        "for i in range(10):\n",
        "  a=int(input())\n",
        "  num.append(a)\n",
        "\n",
        "\n",
        "tot =0\n",
        "tl =[]\n",
        "for i in num2:\n",
        "  tot = tot + num[i]\n",
        " \n",
        "  if tot >= 100:\n",
        "    if 100 -(tot-i) < tot -100:\n",
        "      tot -= i\n",
        "      break\n",
        "print(tot)\n",
        "\n",
        "\n",
        "    \n"
      ],
      "metadata": {
        "id": "jkhGqwQkcalx",
        "colab": {
          "base_uri": "https://localhost:8080/",
          "height": 137
        },
        "outputId": "9d10d381-e21d-4c19-f0a2-c4cf6b00bd9c"
      },
      "execution_count": null,
      "outputs": [
        {
          "output_type": "error",
          "ename": "IndentationError",
          "evalue": "ignored",
          "traceback": [
            "\u001b[0;36m  File \u001b[0;32m\"<ipython-input-31-7641e8ddc39e>\"\u001b[0;36m, line \u001b[0;32m17\u001b[0m\n\u001b[0;31m    else:\u001b[0m\n\u001b[0m    ^\u001b[0m\n\u001b[0;31mIndentationError\u001b[0m\u001b[0;31m:\u001b[0m expected an indented block after 'elif' statement on line 16\n"
          ]
        }
      ]
    },
    {
      "cell_type": "code",
      "source": [
        "#2864\n",
        "num = int(input())\n",
        "\n",
        "a = list(map(int,input().split()))\n",
        "hi=0\n",
        "high=[]\n",
        "for i in range(1,num):\n",
        "  if a[i] > a[i-1]:\n",
        "    hi=hi+a[i] - a[i-1]\n",
        "    if i == num-1:\n",
        "      high.append(hi)\n",
        "      \n",
        "  \n",
        "  else:\n",
        "    high.append(hi)\n",
        "    hi=0\n",
        "\n",
        "print(max(high))\n"
      ],
      "metadata": {
        "id": "PcHPW_Hze6ZB",
        "colab": {
          "base_uri": "https://localhost:8080/",
          "height": 248
        },
        "outputId": "e0ec27d4-e5f4-44ed-b601-9b198effbc7c"
      },
      "execution_count": null,
      "outputs": [
        {
          "name": "stdout",
          "output_type": "stream",
          "text": [
            "5\n",
            "1 2 1 4 6\n"
          ]
        },
        {
          "output_type": "error",
          "ename": "TypeError",
          "evalue": "ignored",
          "traceback": [
            "\u001b[0;31m---------------------------------------------------------------------------\u001b[0m",
            "\u001b[0;31mTypeError\u001b[0m                                 Traceback (most recent call last)",
            "\u001b[0;32m<ipython-input-62-78c4361651d6>\u001b[0m in \u001b[0;36m<cell line: 16>\u001b[0;34m()\u001b[0m\n\u001b[1;32m     14\u001b[0m     \u001b[0mhigh\u001b[0m\u001b[0;34m.\u001b[0m\u001b[0mappend\u001b[0m\u001b[0;34m(\u001b[0m\u001b[0mhi\u001b[0m\u001b[0;34m)\u001b[0m\u001b[0;34m\u001b[0m\u001b[0;34m\u001b[0m\u001b[0m\n\u001b[1;32m     15\u001b[0m \u001b[0;34m\u001b[0m\u001b[0m\n\u001b[0;32m---> 16\u001b[0;31m \u001b[0mprint\u001b[0m\u001b[0;34m(\u001b[0m\u001b[0mmax\u001b[0m\u001b[0;34m(\u001b[0m\u001b[0mhi\u001b[0m\u001b[0;34m)\u001b[0m\u001b[0;34m)\u001b[0m\u001b[0;34m\u001b[0m\u001b[0;34m\u001b[0m\u001b[0m\n\u001b[0m",
            "\u001b[0;31mTypeError\u001b[0m: 'list' object is not callable"
          ]
        }
      ]
    }
  ]
}