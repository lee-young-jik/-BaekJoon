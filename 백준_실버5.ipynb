{
  "nbformat": 4,
  "nbformat_minor": 0,
  "metadata": {
    "colab": {
      "provenance": [],
      "authorship_tag": "ABX9TyOdAy1aa39UR22lHpw1CfHn",
      "include_colab_link": true
    },
    "kernelspec": {
      "name": "python3",
      "display_name": "Python 3"
    },
    "language_info": {
      "name": "python"
    }
  },
  "cells": [
    {
      "cell_type": "markdown",
      "metadata": {
        "id": "view-in-github",
        "colab_type": "text"
      },
      "source": [
        "<a href=\"https://colab.research.google.com/github/lee-young-jik/-BaekJoon/blob/main/%EB%B0%B1%EC%A4%80_%EC%8B%A4%EB%B2%845.ipynb\" target=\"_parent\"><img src=\"https://colab.research.google.com/assets/colab-badge.svg\" alt=\"Open In Colab\"/></a>"
      ]
    },
    {
      "cell_type": "code",
      "execution_count": null,
      "metadata": {
        "colab": {
          "base_uri": "https://localhost:8080/"
        },
        "id": "oLRRHRLOSODD",
        "outputId": "897e32d0-f401-46cb-f731-e3d68ec7b8c8"
      },
      "outputs": [
        {
          "output_type": "stream",
          "name": "stdout",
          "text": [
            "1\n",
            "13 29\n",
            "67863915\n"
          ]
        }
      ],
      "source": [
        "#1010\n",
        "num = int(input())\n",
        "\n",
        "\n",
        "def fac(n):\n",
        "    if(n > 1):\n",
        "        return n * fac(n - 1)\n",
        "    else:\n",
        "        return 1\n",
        "\n",
        "\n",
        "\n",
        "\n",
        "for i in range(num):\n",
        "  n, m = map(int, input().split())\n",
        "  bridge = fac(m) // (fac(m-n)*fac(n))\n",
        "  print(bridge)\n",
        "\n",
        " \n",
        "\n",
        "\n"
      ]
    },
    {
      "cell_type": "code",
      "source": [
        "#1094\n",
        "#2진수 갯수가 몇개인지 파악 하기\n",
        "\n",
        "\n",
        "\n",
        "x=int(input())\n",
        "\n",
        "cnt =0\n",
        "while x !=0:\n",
        "  if x%2 !=0:\n",
        "    cnt+=1\n",
        "  x = x//2\n",
        "\n",
        "print(cnt)\n",
        "\n",
        "\n",
        "   \n",
        "\n",
        "  \n",
        "\n",
        "  \n"
      ],
      "metadata": {
        "colab": {
          "base_uri": "https://localhost:8080/"
        },
        "id": "W1vcw_zcZXTV",
        "outputId": "cd43899b-8cad-4be2-e7ea-cdda5ad34c73"
      },
      "execution_count": null,
      "outputs": [
        {
          "output_type": "stream",
          "name": "stdout",
          "text": [
            "23\n",
            "4\n"
          ]
        }
      ]
    },
    {
      "cell_type": "code",
      "source": [
        "#1181\n",
        "import sys\n",
        "num = int(input())\n",
        "\n",
        "st =[]\n",
        "for i in range(num):\n",
        "  st.append(input())\n",
        "\n",
        "set_st = set(st)\n",
        "\n",
        "lst = list(set_st)\n",
        "lst.sor()\n",
        "lst.sort(key=len)\n",
        "\n",
        "for i in lst:\n",
        "  print(i)\n"
      ],
      "metadata": {
        "colab": {
          "base_uri": "https://localhost:8080/"
        },
        "id": "0bwxYEWdt-rm",
        "outputId": "36489a60-0115-42f3-fb48-3f1da055c8c0"
      },
      "execution_count": null,
      "outputs": [
        {
          "output_type": "stream",
          "name": "stdout",
          "text": [
            "3\n",
            "\n"
          ]
        }
      ]
    },
    {
      "cell_type": "code",
      "source": [
        "#1193\n",
        "num = int(input())\n",
        "\n",
        "\n",
        "end = line =0\n",
        "while end < num:\n",
        "  line +=1\n",
        "  end +=line\n",
        "\n",
        "diff = end - num\n",
        "if line % 2 ==0:\n",
        "  top = line- diff\n",
        "  bottom = diff +1\n",
        "else:\n",
        "  bottom = line -diff\n",
        "  top = diff +1\n",
        "\n",
        "print(f\"{top}/{bottom}\")\n",
        "\n",
        "\n",
        "\n"
      ],
      "metadata": {
        "colab": {
          "base_uri": "https://localhost:8080/"
        },
        "id": "HM4LjF70jp5p",
        "outputId": "97cac4cd-9d58-477b-cbde-34c30d10de8d"
      },
      "execution_count": null,
      "outputs": [
        {
          "output_type": "stream",
          "name": "stdout",
          "text": [
            "14\n",
            "2/4\n"
          ]
        }
      ]
    },
    {
      "cell_type": "code",
      "source": [
        "#1251\n",
        "\n",
        "word = list(input())\n",
        "li=[]\n",
        "for i in range(len(word)-1):\n",
        "  for j in range(i+1,len(word)):\n",
        "    first = word[:i]\n",
        "    second = word[i:j]\n",
        "    third = word[j:]\n",
        "\n",
        "    first.reverse()\n",
        "    second.reverse()\n",
        "    third.reverse()\n",
        "    c=\"\".join(first + second + third)\n",
        "    li.append(c)\n",
        "\n",
        "print(min(li))\n"
      ],
      "metadata": {
        "colab": {
          "base_uri": "https://localhost:8080/"
        },
        "id": "iWvQfqzanSs0",
        "outputId": "e2334a55-073c-41dc-97b9-cc01d97a6b33"
      },
      "execution_count": null,
      "outputs": [
        {
          "output_type": "stream",
          "name": "stdout",
          "text": [
            "mobitel\n",
            "bometil\n"
          ]
        }
      ]
    },
    {
      "cell_type": "code",
      "source": [
        "#1308 \n",
        "# datetime 기능 .days 키워드 추\n",
        "import datetime\n",
        "start = list(map(int, input().split()))\n",
        "end = list(map(int, input().split()))\n",
        "\n",
        "start_time = datetime.date(start[0],start[1],start[2])\n",
        "start_1000= datetime.date(start[0]+1000,start[1],start[2])\n",
        "end_time = datetime.date(end[0],end[1],end[2])\n",
        "\n",
        "day =end_time - start_time\n",
        "re =  start_1000 - start_time\n",
        "\n",
        "if day < re:\n",
        "\n",
        "  print(f\"D-{day.days}\")\n",
        "else:\n",
        "  print(\"gg\")"
      ],
      "metadata": {
        "colab": {
          "base_uri": "https://localhost:8080/"
        },
        "id": "1DXtWSymrt8H",
        "outputId": "68d8d6c5-313c-4ab5-d0aa-8536e3265055"
      },
      "execution_count": null,
      "outputs": [
        {
          "output_type": "stream",
          "name": "stdout",
          "text": [
            "2008 12 27\n",
            "2009 1 22\n",
            "D-26\n"
          ]
        }
      ]
    },
    {
      "cell_type": "code",
      "source": [
        "#1312\n",
        "\n",
        "a = list(map(int, input().split()))\n",
        "b =a[0] % a[1]\n",
        "\n",
        "for i in range(a[2]):\n",
        "  c=(b * 10) // a[1]\n",
        "  b= (b * 10) % a[1]\n",
        "print(c)\n",
        " \n"
      ],
      "metadata": {
        "colab": {
          "base_uri": "https://localhost:8080/"
        },
        "id": "yiFTbkmhul-x",
        "outputId": "20c156cc-f412-45dd-e858-5c5334c51e46"
      },
      "execution_count": null,
      "outputs": [
        {
          "output_type": "stream",
          "name": "stdout",
          "text": [
            "25 7 5\n",
            "2\n"
          ]
        }
      ]
    },
    {
      "cell_type": "code",
      "source": [
        "#1316\n",
        "n = int(input())\n",
        "li = []\n",
        "for i in range(n):\n",
        "  name = (input())\n",
        "  li.append(name)\n",
        "\n",
        "cnt=0\n",
        "for i in li:\n",
        "  if len(i) == 1:\n",
        "    cnt +=1\n",
        "    break\n",
        "  li2=[]\n",
        "  for j in range(1,len(i)):\n",
        "    \n",
        "    if i[j-1] != i[j]:\n",
        "      if i[j-1] not in li2:\n",
        "        li2.append(i[j-1])\n",
        "        if i[-1] not in li2:\n",
        "          li2.append(i[-1])\n",
        "\n",
        "\n",
        "          \n",
        "      \n"
      ],
      "metadata": {
        "colab": {
          "base_uri": "https://localhost:8080/"
        },
        "id": "U84uZX72xejw",
        "outputId": "2c7a8da9-2397-45b0-ff7f-5c9a7296c1c8"
      },
      "execution_count": null,
      "outputs": [
        {
          "output_type": "stream",
          "name": "stdout",
          "text": [
            "1\n",
            "happy\n",
            "0\n"
          ]
        }
      ]
    },
    {
      "cell_type": "code",
      "source": [
        "#1316-2\n",
        "\n",
        "num = int(input())\n",
        "\n",
        "\n",
        "word_set = []\n",
        "for i in range(num):\n",
        "  word = list(map(str,input()))\n",
        "  word_set.append(word)\n",
        "\n",
        "\n",
        "cnt =num\n",
        "\n",
        "for i in word_set:\n",
        "  w =[]\n",
        "  for j in range(1,len(i)):\n",
        "    if word[j-1] == word[j]:\n",
        "            pass     \n",
        "    elif word[j-1] in word[j:]:\n",
        "        cnt -= 1\n",
        "        break\n",
        "\n",
        "\n",
        "print(cnt)\n",
        "    \n",
        "    \n",
        "\n",
        "\n",
        "  "
      ],
      "metadata": {
        "colab": {
          "base_uri": "https://localhost:8080/",
          "height": 281
        },
        "id": "TxPWczxcCX6r",
        "outputId": "341c7d63-b04d-428d-b480-0a91aabe5959"
      },
      "execution_count": null,
      "outputs": [
        {
          "name": "stdout",
          "output_type": "stream",
          "text": [
            "1\n",
            "happy\n"
          ]
        },
        {
          "output_type": "error",
          "ename": "IndexError",
          "evalue": "ignored",
          "traceback": [
            "\u001b[0;31m---------------------------------------------------------------------------\u001b[0m",
            "\u001b[0;31mIndexError\u001b[0m                                Traceback (most recent call last)",
            "\u001b[0;32m<ipython-input-8-f8483659b9ed>\u001b[0m in \u001b[0;36m<cell line: 14>\u001b[0;34m()\u001b[0m\n\u001b[1;32m     15\u001b[0m   \u001b[0mw\u001b[0m \u001b[0;34m=\u001b[0m\u001b[0;34m[\u001b[0m\u001b[0;34m]\u001b[0m\u001b[0;34m\u001b[0m\u001b[0;34m\u001b[0m\u001b[0m\n\u001b[1;32m     16\u001b[0m   \u001b[0;32mfor\u001b[0m \u001b[0mj\u001b[0m \u001b[0;32min\u001b[0m \u001b[0mrange\u001b[0m\u001b[0;34m(\u001b[0m\u001b[0;36m1\u001b[0m\u001b[0;34m,\u001b[0m\u001b[0mlen\u001b[0m\u001b[0;34m(\u001b[0m\u001b[0mi\u001b[0m\u001b[0;34m)\u001b[0m\u001b[0;34m)\u001b[0m\u001b[0;34m:\u001b[0m\u001b[0;34m\u001b[0m\u001b[0;34m\u001b[0m\u001b[0m\n\u001b[0;32m---> 17\u001b[0;31m     \u001b[0;32mif\u001b[0m \u001b[0mword\u001b[0m\u001b[0;34m[\u001b[0m\u001b[0mj\u001b[0m\u001b[0;34m]\u001b[0m \u001b[0;34m==\u001b[0m \u001b[0mword\u001b[0m\u001b[0;34m[\u001b[0m\u001b[0mj\u001b[0m\u001b[0;34m+\u001b[0m\u001b[0;36m1\u001b[0m\u001b[0;34m]\u001b[0m\u001b[0;34m:\u001b[0m\u001b[0;34m\u001b[0m\u001b[0;34m\u001b[0m\u001b[0m\n\u001b[0m\u001b[1;32m     18\u001b[0m             \u001b[0;32mpass\u001b[0m\u001b[0;34m\u001b[0m\u001b[0;34m\u001b[0m\u001b[0m\n\u001b[1;32m     19\u001b[0m     \u001b[0;32melif\u001b[0m \u001b[0mi\u001b[0m\u001b[0;34m[\u001b[0m\u001b[0mj\u001b[0m\u001b[0;34m-\u001b[0m\u001b[0;36m1\u001b[0m\u001b[0;34m]\u001b[0m \u001b[0;34m!=\u001b[0m \u001b[0mi\u001b[0m\u001b[0;34m[\u001b[0m\u001b[0mj\u001b[0m\u001b[0;34m]\u001b[0m\u001b[0;34m:\u001b[0m\u001b[0;34m\u001b[0m\u001b[0;34m\u001b[0m\u001b[0m\n",
            "\u001b[0;31mIndexError\u001b[0m: list index out of range"
          ]
        }
      ]
    },
    {
      "cell_type": "code",
      "source": [
        "num = input()\n",
        "\n",
        "int_num = []\n",
        "for i in range(len(num)):\n",
        "  n = int(num[i])\n",
        "  int_num.append(n)\n",
        "\n",
        "\n",
        "int_num.sort()\n",
        "int_num.sort(reverse=True)\n",
        "\n",
        "for i in int_num:\n",
        "    print(i,end='')\n",
        "\n",
        "# anw= \" \".join(int_num)\n",
        "# print(anw)\n",
        "\n"
      ],
      "metadata": {
        "colab": {
          "base_uri": "https://localhost:8080/",
          "height": 54
        },
        "id": "P_nZ4VjfCswE",
        "outputId": "c2151190-7426-4486-d0d3-dd70c768107c"
      },
      "execution_count": null,
      "outputs": [
        {
          "name": "stdout",
          "output_type": "stream",
          "text": [
            "2143\n"
          ]
        },
        {
          "output_type": "execute_result",
          "data": {
            "text/plain": [
              "'4321'"
            ],
            "application/vnd.google.colaboratory.intrinsic+json": {
              "type": "string"
            }
          },
          "metadata": {},
          "execution_count": 39
        }
      ]
    },
    {
      "cell_type": "code",
      "source": [
        "#1436\n",
        "\n",
        "num = int(input())\n",
        "strs = 666\n",
        "cnt=0\n",
        "while 1:\n",
        "  if '666' in str(strs):\n",
        "    cnt +=1\n",
        "  if cnt == num:\n",
        "    print(strs)\n",
        "    break\n",
        "  strs +=1  "
      ],
      "metadata": {
        "colab": {
          "base_uri": "https://localhost:8080/"
        },
        "id": "AXKt3KNRHjYw",
        "outputId": "caea96b6-0d03-4e72-85bd-d056ec2c5388"
      },
      "execution_count": null,
      "outputs": [
        {
          "output_type": "stream",
          "name": "stdout",
          "text": [
            "2\n",
            "1666\n"
          ]
        }
      ]
    },
    {
      "cell_type": "code",
      "source": [
        "#1475\n",
        "\n",
        "num = input()\n",
        "\n",
        "li=[]\n",
        "for i in num:\n",
        "  li.append(i)\n",
        "\n",
        "cnt =1\n",
        "n_s=0\n",
        "\n",
        "for i in range(len(li)):\n",
        "  if li[i] =='9' or li[i]=='6':\n",
        "    if '9' in  li[i+1:] or '6' in  li[i+1:]:\n",
        "      n_s +=1\n",
        "      if n_s ==2:\n",
        "        cnt+=1\n",
        "        n_s = 0\n",
        "      else:\n",
        "        pass\n",
        "  elif li[i] not in li[i+1:]:\n",
        "    pass\n",
        "  \n",
        "  elif li[i] in li[i+1:]: \n",
        "    cnt +=1\n",
        "\n",
        "\n",
        "\n",
        "cnt\n",
        "\n",
        "\n"
      ],
      "metadata": {
        "colab": {
          "base_uri": "https://localhost:8080/",
          "height": 414
        },
        "id": "OJsePnNXaGpp",
        "outputId": "10f994f8-fa2f-405e-90c7-a77c7d6c29eb"
      },
      "execution_count": null,
      "outputs": [
        {
          "output_type": "error",
          "ename": "KeyboardInterrupt",
          "evalue": "ignored",
          "traceback": [
            "\u001b[0;31m---------------------------------------------------------------------------\u001b[0m",
            "\u001b[0;31mKeyboardInterrupt\u001b[0m                         Traceback (most recent call last)",
            "\u001b[0;32m<ipython-input-35-70532b7eaaed>\u001b[0m in \u001b[0;36m<cell line: 3>\u001b[0;34m()\u001b[0m\n\u001b[1;32m      1\u001b[0m \u001b[0;31m#1475\u001b[0m\u001b[0;34m\u001b[0m\u001b[0;34m\u001b[0m\u001b[0m\n\u001b[1;32m      2\u001b[0m \u001b[0;34m\u001b[0m\u001b[0m\n\u001b[0;32m----> 3\u001b[0;31m \u001b[0mnum\u001b[0m \u001b[0;34m=\u001b[0m \u001b[0minput\u001b[0m\u001b[0;34m(\u001b[0m\u001b[0;34m)\u001b[0m\u001b[0;34m\u001b[0m\u001b[0;34m\u001b[0m\u001b[0m\n\u001b[0m\u001b[1;32m      4\u001b[0m \u001b[0;34m\u001b[0m\u001b[0m\n\u001b[1;32m      5\u001b[0m \u001b[0mli\u001b[0m\u001b[0;34m=\u001b[0m\u001b[0;34m[\u001b[0m\u001b[0;34m]\u001b[0m\u001b[0;34m\u001b[0m\u001b[0;34m\u001b[0m\u001b[0m\n",
            "\u001b[0;32m/usr/local/lib/python3.10/dist-packages/ipykernel/kernelbase.py\u001b[0m in \u001b[0;36mraw_input\u001b[0;34m(self, prompt)\u001b[0m\n\u001b[1;32m    849\u001b[0m                 \u001b[0;34m\"raw_input was called, but this frontend does not support input requests.\"\u001b[0m\u001b[0;34m\u001b[0m\u001b[0;34m\u001b[0m\u001b[0m\n\u001b[1;32m    850\u001b[0m             )\n\u001b[0;32m--> 851\u001b[0;31m         return self._input_request(str(prompt),\n\u001b[0m\u001b[1;32m    852\u001b[0m             \u001b[0mself\u001b[0m\u001b[0;34m.\u001b[0m\u001b[0m_parent_ident\u001b[0m\u001b[0;34m,\u001b[0m\u001b[0;34m\u001b[0m\u001b[0;34m\u001b[0m\u001b[0m\n\u001b[1;32m    853\u001b[0m             \u001b[0mself\u001b[0m\u001b[0;34m.\u001b[0m\u001b[0m_parent_header\u001b[0m\u001b[0;34m,\u001b[0m\u001b[0;34m\u001b[0m\u001b[0;34m\u001b[0m\u001b[0m\n",
            "\u001b[0;32m/usr/local/lib/python3.10/dist-packages/ipykernel/kernelbase.py\u001b[0m in \u001b[0;36m_input_request\u001b[0;34m(self, prompt, ident, parent, password)\u001b[0m\n\u001b[1;32m    893\u001b[0m             \u001b[0;32mexcept\u001b[0m \u001b[0mKeyboardInterrupt\u001b[0m\u001b[0;34m:\u001b[0m\u001b[0;34m\u001b[0m\u001b[0;34m\u001b[0m\u001b[0m\n\u001b[1;32m    894\u001b[0m                 \u001b[0;31m# re-raise KeyboardInterrupt, to truncate traceback\u001b[0m\u001b[0;34m\u001b[0m\u001b[0;34m\u001b[0m\u001b[0m\n\u001b[0;32m--> 895\u001b[0;31m                 \u001b[0;32mraise\u001b[0m \u001b[0mKeyboardInterrupt\u001b[0m\u001b[0;34m(\u001b[0m\u001b[0;34m\"Interrupted by user\"\u001b[0m\u001b[0;34m)\u001b[0m \u001b[0;32mfrom\u001b[0m \u001b[0;32mNone\u001b[0m\u001b[0;34m\u001b[0m\u001b[0;34m\u001b[0m\u001b[0m\n\u001b[0m\u001b[1;32m    896\u001b[0m             \u001b[0;32mexcept\u001b[0m \u001b[0mException\u001b[0m \u001b[0;32mas\u001b[0m \u001b[0me\u001b[0m\u001b[0;34m:\u001b[0m\u001b[0;34m\u001b[0m\u001b[0;34m\u001b[0m\u001b[0m\n\u001b[1;32m    897\u001b[0m                 \u001b[0mself\u001b[0m\u001b[0;34m.\u001b[0m\u001b[0mlog\u001b[0m\u001b[0;34m.\u001b[0m\u001b[0mwarning\u001b[0m\u001b[0;34m(\u001b[0m\u001b[0;34m\"Invalid Message:\"\u001b[0m\u001b[0;34m,\u001b[0m \u001b[0mexc_info\u001b[0m\u001b[0;34m=\u001b[0m\u001b[0;32mTrue\u001b[0m\u001b[0;34m)\u001b[0m\u001b[0;34m\u001b[0m\u001b[0;34m\u001b[0m\u001b[0m\n",
            "\u001b[0;31mKeyboardInterrupt\u001b[0m: Interrupted by user"
          ]
        }
      ]
    },
    {
      "cell_type": "code",
      "source": [
        "#2751\n",
        "import sys\n",
        "a = int(sys.stdin.readline())\n",
        "\n",
        "li=[]\n",
        "for i in range(a):\n",
        "  li.append(int(sys.stdin.readline()))\n",
        "\n",
        "li_l = sorted(li)\n",
        "\n",
        "for i in range(len(li_l)):\n",
        "  print(li_l[i])"
      ],
      "metadata": {
        "colab": {
          "base_uri": "https://localhost:8080/",
          "height": 354
        },
        "id": "0LKxRVYtavoI",
        "outputId": "ecd9137a-1ffb-4d66-e751-2641d75bcf31"
      },
      "execution_count": null,
      "outputs": [
        {
          "name": "stdout",
          "output_type": "stream",
          "text": [
            "5\n",
            "5\n",
            "4\n",
            "3\n",
            "2\n",
            "1\n"
          ]
        },
        {
          "output_type": "error",
          "ename": "TypeError",
          "evalue": "ignored",
          "traceback": [
            "\u001b[0;31m---------------------------------------------------------------------------\u001b[0m",
            "\u001b[0;31mTypeError\u001b[0m                                 Traceback (most recent call last)",
            "\u001b[0;32m<ipython-input-48-c4a11ebfc649>\u001b[0m in \u001b[0;36m<cell line: 8>\u001b[0;34m()\u001b[0m\n\u001b[1;32m      6\u001b[0m   \u001b[0mli\u001b[0m\u001b[0;34m.\u001b[0m\u001b[0mappend\u001b[0m\u001b[0;34m(\u001b[0m\u001b[0mmap\u001b[0m\u001b[0;34m(\u001b[0m\u001b[0mint\u001b[0m\u001b[0;34m,\u001b[0m\u001b[0minput\u001b[0m\u001b[0;34m(\u001b[0m\u001b[0;34m)\u001b[0m\u001b[0;34m)\u001b[0m\u001b[0;34m)\u001b[0m\u001b[0;34m\u001b[0m\u001b[0;34m\u001b[0m\u001b[0m\n\u001b[1;32m      7\u001b[0m \u001b[0;34m\u001b[0m\u001b[0m\n\u001b[0;32m----> 8\u001b[0;31m \u001b[0mli\u001b[0m\u001b[0;34m=\u001b[0m\u001b[0msorted\u001b[0m\u001b[0;34m(\u001b[0m\u001b[0mli\u001b[0m\u001b[0;34m)\u001b[0m\u001b[0;34m\u001b[0m\u001b[0;34m\u001b[0m\u001b[0m\n\u001b[0m\u001b[1;32m      9\u001b[0m \u001b[0;34m\u001b[0m\u001b[0m\n\u001b[1;32m     10\u001b[0m \u001b[0;32mfor\u001b[0m \u001b[0mi\u001b[0m \u001b[0;32min\u001b[0m \u001b[0mli\u001b[0m\u001b[0;34m:\u001b[0m\u001b[0;34m\u001b[0m\u001b[0;34m\u001b[0m\u001b[0m\n",
            "\u001b[0;31mTypeError\u001b[0m: '<' not supported between instances of 'map' and 'map'"
          ]
        }
      ]
    },
    {
      "cell_type": "code",
      "source": [
        "#2563\n",
        "num = int(input())\n",
        "\n",
        "li=[]\n",
        "for i in range(num):\n",
        "  a = list(map(int,input().split()))\n",
        "  li.append(a)\n",
        "\n",
        "for i in range(len(li)):\n",
        "   for j in range(1,len(li)):\n",
        "    print(li[i][j])\n",
        "   \n",
        "\n",
        "\n"
      ],
      "metadata": {
        "colab": {
          "base_uri": "https://localhost:8080/",
          "height": 336
        },
        "id": "0Fylt5b8XWu8",
        "outputId": "5939187b-0976-4e0d-b81e-c47aa9eb8a8d"
      },
      "execution_count": null,
      "outputs": [
        {
          "output_type": "stream",
          "name": "stdout",
          "text": [
            "3\n",
            "15 2\n",
            "5 7\n",
            "6 2\n",
            "2\n"
          ]
        },
        {
          "output_type": "error",
          "ename": "IndexError",
          "evalue": "ignored",
          "traceback": [
            "\u001b[0;31m---------------------------------------------------------------------------\u001b[0m",
            "\u001b[0;31mIndexError\u001b[0m                                Traceback (most recent call last)",
            "\u001b[0;32m<ipython-input-53-6fd773af0135>\u001b[0m in \u001b[0;36m<cell line: 9>\u001b[0;34m()\u001b[0m\n\u001b[1;32m      9\u001b[0m \u001b[0;32mfor\u001b[0m \u001b[0mi\u001b[0m \u001b[0;32min\u001b[0m \u001b[0mrange\u001b[0m\u001b[0;34m(\u001b[0m\u001b[0mlen\u001b[0m\u001b[0;34m(\u001b[0m\u001b[0mli\u001b[0m\u001b[0;34m)\u001b[0m\u001b[0;34m)\u001b[0m\u001b[0;34m:\u001b[0m\u001b[0;34m\u001b[0m\u001b[0;34m\u001b[0m\u001b[0m\n\u001b[1;32m     10\u001b[0m    \u001b[0;32mfor\u001b[0m \u001b[0mj\u001b[0m \u001b[0;32min\u001b[0m \u001b[0mrange\u001b[0m\u001b[0;34m(\u001b[0m\u001b[0;36m1\u001b[0m\u001b[0;34m,\u001b[0m\u001b[0mlen\u001b[0m\u001b[0;34m(\u001b[0m\u001b[0mli\u001b[0m\u001b[0;34m)\u001b[0m\u001b[0;34m)\u001b[0m\u001b[0;34m:\u001b[0m\u001b[0;34m\u001b[0m\u001b[0;34m\u001b[0m\u001b[0m\n\u001b[0;32m---> 11\u001b[0;31m     \u001b[0mprint\u001b[0m\u001b[0;34m(\u001b[0m\u001b[0mli\u001b[0m\u001b[0;34m[\u001b[0m\u001b[0mi\u001b[0m\u001b[0;34m]\u001b[0m\u001b[0;34m[\u001b[0m\u001b[0mj\u001b[0m\u001b[0;34m]\u001b[0m\u001b[0;34m)\u001b[0m\u001b[0;34m\u001b[0m\u001b[0;34m\u001b[0m\u001b[0m\n\u001b[0m\u001b[1;32m     12\u001b[0m \u001b[0;34m\u001b[0m\u001b[0m\n\u001b[1;32m     13\u001b[0m \u001b[0;34m\u001b[0m\u001b[0m\n",
            "\u001b[0;31mIndexError\u001b[0m: list index out of range"
          ]
        }
      ]
    },
    {
      "cell_type": "code",
      "source": [
        "#2563\n",
        "#101개의 이줄 배열을 만든 후\n",
        "#해당하는 영역을 1로 채워 다 더한다\n",
        "\n",
        "num = int(input())\n",
        "\n",
        "li =[[0]*101 for _ in range(101)]\n",
        "for i in range(num):\n",
        "  a,b = (map(int,input().split()))\n",
        "  for j in range(10):\n",
        "    for k in range(10):\n",
        "      li[a+j][b+k] = 1\n",
        "\n",
        "tot=0\n",
        "for i in li:\n",
        "  tot = tot + sum(i)\n",
        "\n",
        "print(tot)\n",
        "\n",
        "\n"
      ],
      "metadata": {
        "colab": {
          "base_uri": "https://localhost:8080/"
        },
        "id": "XDnDye-B7cYn",
        "outputId": "32a13b38-e951-4547-edca-318ebc1e8fbc"
      },
      "execution_count": 9,
      "outputs": [
        {
          "name": "stdout",
          "output_type": "stream",
          "text": [
            "3\n",
            "3 7\n",
            "15 7\n",
            "5 2\n"
          ]
        },
        {
          "output_type": "execute_result",
          "data": {
            "text/plain": [
              "260"
            ]
          },
          "metadata": {},
          "execution_count": 9
        }
      ]
    },
    {
      "cell_type": "code",
      "source": [
        "#2167\n",
        "a,b =map(int,input().split())\n",
        "\n",
        "li=[list(map(int,input().split()))for _ in range(a)]\n",
        "\n",
        "\n",
        "num = int(input())\n",
        "\n",
        "for _ in range(num):\n",
        "  tot=0\n",
        "  c,d,e,f =map(int,input().split())\n",
        "  for j in range(d-1,f):\n",
        "    for k in range(c-1,e):\n",
        "     tot = int(li[k][j])+tot\n",
        "  print(tot)\n",
        "\n",
        "\n",
        "  ##시간초과\n",
        "\n",
        "  "
      ],
      "metadata": {
        "colab": {
          "base_uri": "https://localhost:8080/"
        },
        "id": "Bjv-3dsf7gSK",
        "outputId": "ce6a2203-b684-499e-e799-d62eedb590e1"
      },
      "execution_count": 8,
      "outputs": [
        {
          "output_type": "stream",
          "name": "stdout",
          "text": [
            "2 3\n",
            "1 2 4\n",
            "8 16 32\n",
            "3\n",
            "1 1 2 3\n",
            "9\n",
            "27\n",
            "63\n",
            "1 2 1 2\n",
            "2\n",
            "1 3 2 3\n",
            "36\n"
          ]
        }
      ]
    },
    {
      "cell_type": "code",
      "source": [
        "#2167\n",
        "#누적합 배열 만들기\n",
        "#2차원 배열이 주어졌을 때 (i, j) 위치부터 (x, y) 위치까지에 저장되어 있는 수들의 합을 구하는 프로그램을 작성하시오. 배열의 (i, j) 위치는 i행 j열을 나타낸다.\n",
        "\n",
        "n, m = map(int, input().split())\n",
        "a = []\n",
        "dp = [[0] * (m + 1) for _ in range(n + 1)]\n",
        "for _ in range(n):\n",
        "    a.append(list(map(int, input().split())))\n",
        "for i in range(1, n + 1):\n",
        "    for j in range(1, m + 1):\n",
        "        dp[i][j] = a[i - 1][j - 1] + dp[i][j - 1] + dp[i - 1][j] - dp[i - 1][j - 1]\n",
        "k = int(input())\n",
        "for _ in range(k):\n",
        "    i, j, x, y = map(int, input().split())\n",
        "    print(dp[x][y] - dp[x][j - 1] - dp[i - 1][y] + dp[i - 1][j - 1])"
      ],
      "metadata": {
        "id": "7gj8IICQ7hBk"
      },
      "execution_count": null,
      "outputs": []
    },
    {
      "cell_type": "code",
      "source": [
        "#1676\n",
        "#n!뒤에서 처음 0이 아닌 숫자\n",
        "def fac(x):\n",
        "  if x ==1:\n",
        "    return 1\n",
        "  return x * fac(x-1)\n",
        "  \n",
        "\n",
        "\n",
        "num = int(input())\n",
        "\n",
        "anw = list(str(fac(num)))\n",
        "\n",
        "anw.reverse()\n",
        "\n",
        "cnt =0\n",
        "for i in range(len(anw)):\n",
        "  if anw[i] == '0':\n",
        "    cnt+=1\n",
        "  else:\n",
        "    print(cnt)\n",
        "    break\n",
        "#리커션 에러발생\n",
        "\n",
        "\n",
        "# 5 증가마다 0 25 125 로 나뉘 지는 케이스도 더해주\n",
        "\n",
        "N = int(input())\n",
        "print(N//5 + N//25 + N//125)\n",
        "\n"
      ],
      "metadata": {
        "colab": {
          "base_uri": "https://localhost:8080/"
        },
        "id": "eEF97SDIgaZx",
        "outputId": "517f9043-2b59-4e3e-e77d-f8968b8e3164"
      },
      "execution_count": 21,
      "outputs": [
        {
          "output_type": "stream",
          "name": "stdout",
          "text": [
            "3\n",
            "0\n"
          ]
        }
      ]
    },
    {
      "cell_type": "markdown",
      "source": [],
      "metadata": {
        "id": "6N9cuATfG9f2"
      }
    }
  ]
}